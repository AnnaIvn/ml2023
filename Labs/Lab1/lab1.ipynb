{
 "cells": [
  {
   "cell_type": "markdown",
   "metadata": {},
   "source": [
    "## 1. Робота з NumPy "
   ]
  },
  {
   "cell_type": "code",
   "execution_count": 73,
   "metadata": {},
   "outputs": [
    {
     "name": "stdout",
     "output_type": "stream",
     "text": [
      "[0 1 2 3 4 5]\n",
      "\n",
      "\n",
      "[  0  20  40  60  80 100]\n"
     ]
    }
   ],
   "source": [
    "# Використання arange\n",
    "import numpy as np\n",
    "\n",
    "# Генеруємо масив від 0 до 5 з кроком 1\n",
    "a1 = np.arange(6)\n",
    "print(a1)\n",
    "print(\"\\n\")\n",
    "\n",
    "# Генеруємо масив від 0 до 100 з кроком 20\n",
    "my_array = np.arange(0, 101, 20)\n",
    "print(my_array)"
   ]
  },
  {
   "cell_type": "code",
   "execution_count": 74,
   "metadata": {},
   "outputs": [
    {
     "name": "stdout",
     "output_type": "stream",
     "text": [
      "\n",
      " [[5 7 3 4]\n",
      " [8 3 3 1]\n",
      " [1 4 2 8]\n",
      " [4 3 2 5]]\n",
      "\n",
      " [[3 3 8 1]\n",
      " [2 3 3 3]\n",
      " [5 4 2 8]\n",
      " [6 3 4 3]]\n",
      "\n",
      "Скалярний добуток arr1 і arr2: \n",
      " [[68 60 83 62]\n",
      " [51 48 83 44]\n",
      " [69 47 56 53]\n",
      " [58 44 65 44]]\n"
     ]
    }
   ],
   "source": [
    "# Створення масиву розміром 4x4 зі згенерованими випадковими цілими числами від 1 до 30\n",
    "arr1 = np.random.randint(1, 10, (4, 4))\n",
    "print(\"\\n\", arr1)\n",
    "\n",
    "arr2 = np.random.randint(1, 10, (4, 4))\n",
    "print(\"\\n\", arr2)\n",
    "\n",
    "# Обчислення скалярного добутку\n",
    "scalar = np.dot(arr1, arr2)\n",
    "print(\"\\nСкалярний добуток arr1 і arr2:\", \"\\n\", scalar)"
   ]
  },
  {
   "cell_type": "code",
   "execution_count": 75,
   "metadata": {},
   "outputs": [
    {
     "name": "stdout",
     "output_type": "stream",
     "text": [
      "Масив, з яким працюємо \n",
      " [[5 1 3 4 5]\n",
      " [5 7 3 8 1]\n",
      " [5 6 1 1 1]\n",
      " [9 8 6 1 1]\n",
      " [2 9 6 2 1]]\n",
      "\n",
      "Вектор другого рядка:\n",
      "[5 7 3 8 1]\n",
      "\n",
      "Вектор першого рядка:\n",
      "[5 1 3 4 5]\n",
      "\n",
      "Вектор четвертого рядка:\n",
      "[9 8 6 1 1]\n"
     ]
    }
   ],
   "source": [
    "# Створення масиву розміром 4x4 зі згенерованими випадковими цілими числами від 1 до 30\n",
    "arr3 = np.random.randint(1, 10, (5, 5))\n",
    "print(\"Масив, з яким працюємо\",\"\\n\", arr3)\n",
    "\n",
    "# Отримуємо вектор з другого рядка (індекс 1)\n",
    "vector2 = arr3[1, :]\n",
    "print(\"\\nВектор другого рядка:\")\n",
    "print(vector2)\n",
    "\n",
    "# Отримуємо вектор з першого рядка\n",
    "vector3 = arr3[0, :]\n",
    "print(\"\\nВектор першого рядка:\")\n",
    "print(vector3)\n",
    "\n",
    "# Отримуємо вектор з четвертого рядка\n",
    "vector3 = arr3[3, :]\n",
    "print(\"\\nВектор четвертого рядка:\")\n",
    "print(vector3)"
   ]
  },
  {
   "cell_type": "code",
   "execution_count": 76,
   "metadata": {},
   "outputs": [
    {
     "name": "stdout",
     "output_type": "stream",
     "text": [
      "Масив\n",
      " [[1 2]\n",
      " [3 6]] \n",
      "\n",
      "Матриця 1:\n",
      " [[1 2]\n",
      " [3 4]] \n",
      "\n",
      "Матриця 2:\n",
      " [[1 1]\n",
      " [1 1]]\n",
      "\n",
      "Додавання матриць:\n",
      "[[2 3]\n",
      " [4 5]]\n",
      "\n",
      "Віднімання матриць:\n",
      "[[0 1]\n",
      " [2 3]]\n",
      "\n",
      "Множення матриць:\n",
      "[[3 3]\n",
      " [7 7]]\n",
      "\n",
      "Транспонування матриці 1:\n",
      "[[1 3]\n",
      " [2 4]]\n"
     ]
    }
   ],
   "source": [
    "# Створення масиву\n",
    "array = np.array([[1, 2], [3, 6]])\n",
    "print(\"Масив\\n\", array, \"\\n\")\n",
    "\n",
    "# Створення матриць\n",
    "matrix1 = np.matrix([[1, 2], [3, 4]])\n",
    "print(\"Матриця 1:\\n\", matrix1, \"\\n\")\n",
    "\n",
    "matrix2 = np.matrix([[1, 1], [1, 1]])\n",
    "print(\"Матриця 2:\\n\", matrix2)\n",
    "\n",
    "# Дії над матрицями\n",
    "# Додавання матриць\n",
    "sum = matrix1 + matrix2\n",
    "print(\"\\nДодавання матриць:\")\n",
    "print(sum)\n",
    "\n",
    "# Віднімання матриць\n",
    "diff = matrix1 - matrix2\n",
    "print(\"\\nВіднімання матриць:\")\n",
    "print(diff)\n",
    "\n",
    "# Множення матриць\n",
    "prod = np.dot(matrix1, matrix2)\n",
    "print(\"\\nМноження матриць:\")\n",
    "print(prod)\n",
    "\n",
    "# Транспонування матриці 1 (відображення по головній діпгоналі)\n",
    "transposed1 = matrix1.T\n",
    "print(\"\\nТранспонування матриці 1:\")\n",
    "print(transposed1)"
   ]
  },
  {
   "cell_type": "markdown",
   "metadata": {},
   "source": [
    "## 2. Pandas (створити dataframe різними способами, провести маніпуляції з даними (head, describe, iloc, loc ...))"
   ]
  },
  {
   "cell_type": "code",
   "execution_count": 77,
   "metadata": {},
   "outputs": [
    {
     "name": "stdout",
     "output_type": "stream",
     "text": [
      "         ID   Name  Age          Job\n",
      "0  14343656    Jay   25        Pilot\n",
      "1  22336565  Linda   22      Teacher\n",
      "2  32328333   Garu   30  Businessman\n",
      "\n",
      "\n",
      "         ID   Name  Age          Job\n",
      "0  13469798    Jay   25        Pilot\n",
      "1  58497584  Linda   22      Teacher\n",
      "2  34896373   Garu   30  Businessman\n",
      "\n",
      "\n",
      "         ID  Name  Age          Job\n",
      "0  14333245   Jay   25       Artist\n",
      "1  24347898  Jack   22     Producer\n",
      "2  33235679   Tay   30  Architector\n"
     ]
    }
   ],
   "source": [
    "# Створення dataframe різними способами\n",
    "import pandas as pd\n",
    "\n",
    "# Створюємо DataFrame зі списку списків\n",
    "data = [[14343656, 'Jay', 25, \"Pilot\"],\n",
    "        [22336565, 'Linda', 22, \"Teacher\"],\n",
    "        [32328333, 'Garu', 30, \"Businessman\"]]\n",
    "\n",
    "columns = ['ID', 'Name', 'Age', 'Job']\n",
    "\n",
    "df = pd.DataFrame(data, columns=columns)\n",
    "print(df)\n",
    "print('\\n')\n",
    "\n",
    "\n",
    "# Створюємо DataFrame зі словника\n",
    "data2 = {'ID': [13469798, 58497584, 34896373],\n",
    "        'Name': ['Jay', 'Linda', 'Garu'],\n",
    "        'Age': [25, 22, 30],\n",
    "        'Job': ['Pilot', 'Teacher', 'Businessman']}\n",
    "\n",
    "df2 = pd.DataFrame(data2)\n",
    "print(df2)\n",
    "print('\\n')\n",
    "\n",
    "# Створюємо DataFrame зі списку словників\n",
    "data3 = [{'ID': 14333245, 'Name': 'Jay', 'Age': 25, 'Job': 'Artist'},\n",
    "        {'ID': 24347898, 'Name': 'Jack', 'Age': 22, 'Job': 'Producer'},\n",
    "        {'ID': 33235679, 'Name': 'Tay', 'Age': 30, 'Job': 'Architector'}]\n",
    "\n",
    "df3 = pd.DataFrame(data3)\n",
    "print(df3)"
   ]
  },
  {
   "cell_type": "code",
   "execution_count": 78,
   "metadata": {},
   "outputs": [
    {
     "name": "stdout",
     "output_type": "stream",
     "text": [
      "Mаніпуляції з даними (head, describe, ...))\n",
      "\n",
      "         ID  Name  Age          Job\n",
      "0  14333245   Jay   25       Artist\n",
      "1  24347898  Jack   22     Producer\n",
      "2  33235679   Tay   30  Architector\n",
      "\n",
      "\n",
      "Перші 2 рядки:\n",
      "         ID  Name  Age       Job\n",
      "0  14333245   Jay   25    Artist\n",
      "1  24347898  Jack   22  Producer\n",
      "\n",
      "Описова статистика:\n",
      "                 ID        Age\n",
      "count  3.000000e+00   3.000000\n",
      "mean   2.397227e+07  25.666667\n",
      "std    9.456814e+06   4.041452\n",
      "min    1.433324e+07  22.000000\n",
      "25%    1.934057e+07  23.500000\n",
      "50%    2.434790e+07  25.000000\n",
      "75%    2.879179e+07  27.500000\n",
      "max    3.323568e+07  30.000000\n",
      "\n",
      "Стовпець Age:\n",
      "0    25\n",
      "1    22\n",
      "2    30\n",
      "Name: Age, dtype: int64\n"
     ]
    }
   ],
   "source": [
    "#  Mаніпуляції з даними (head, describe, iloc, loc ...))\n",
    "\n",
    "print(\"Mаніпуляції з даними (head, describe, ...))\\n\")\n",
    "print(df3)\n",
    "print('\\n')\n",
    "\n",
    "# Вивід перших декількох рядків DataFrame\n",
    "print(\"Перші 2 рядки:\")\n",
    "print(df3.head(2))\n",
    "\n",
    "# Вивід описової статистики даних\n",
    "print(\"\\nОписова статистика:\")\n",
    "print(df3.describe())\n",
    "\n",
    "# Вибірка окремих стовпців\n",
    "ages = df3['Age']\n",
    "print(\"\\nСтовпець Age:\")\n",
    "print(ages)"
   ]
  },
  {
   "cell_type": "code",
   "execution_count": 79,
   "metadata": {},
   "outputs": [
    {
     "name": "stdout",
     "output_type": "stream",
     "text": [
      "Продовження:\n",
      "Mаніпуляції з даними (iloc, ...))\n",
      "Повний dataframe:\n",
      "\n",
      "         ID  Name  Age          Job\n",
      "0  14333245   Jay   25       Artist\n",
      "1  24347898  Jack   22     Producer\n",
      "2  33235679   Tay   30  Architector\n",
      "\n",
      "\n",
      "Молоді люди:\n",
      "         ID  Name  Age       Job\n",
      "0  14333245   Jay   25    Artist\n",
      "1  24347898  Jack   22  Producer\n",
      "\n",
      "\n",
      "Рядок за індексом 2:\n",
      "ID         33235679\n",
      "Name            Tay\n",
      "Age              30\n",
      "Job     Architector\n",
      "Name: 2, dtype: object\n",
      "\n",
      "\n",
      "Вік рядка за індексом 4:\n",
      "30\n"
     ]
    }
   ],
   "source": [
    "# Продовження\n",
    "print(\"Продовження:\")\n",
    "print(\"Mаніпуляції з даними (iloc, ...))\")\n",
    "print(\"Повний dataframe:\\n\")\n",
    "print(df3)\n",
    "print('\\n')\n",
    "\n",
    "# Фільтрація за умовою\n",
    "young_people = df3[df3['Age'] < 30]\n",
    "print(\"Молоді люди:\")\n",
    "print(young_people)\n",
    "print('\\n')\n",
    "\n",
    "# Вибираємо дані за допомогою індексації\n",
    "# Вибираємо рядок за індексом 2 (третій рядок)\n",
    "row_3 = df3.iloc[2]\n",
    "\n",
    "# Вибираємо елемент за індексами (рядок 4, стовпець 'Age')\n",
    "age_of_row_4 = df3.iloc[2, df3.columns.get_loc('Age')]\n",
    "\n",
    "print(\"Рядок за індексом 2:\")\n",
    "print(row_3)\n",
    "print('\\n')\n",
    "\n",
    "print(\"Вік рядка за індексом 4:\")\n",
    "print(age_of_row_4)"
   ]
  },
  {
   "cell_type": "code",
   "execution_count": 80,
   "metadata": {},
   "outputs": [
    {
     "name": "stdout",
     "output_type": "stream",
     "text": [
      "Mаніпуляції з даними (loc, ...))\n",
      "\n",
      "\n",
      "Весь dataframe для демонстрації loc:\n",
      "     Name  Age      Work\n",
      "a     Dai   50  Operator\n",
      "b  Meniya   29  Musician\n",
      "c    Dave   38    Singer\n",
      "\n",
      "\n",
      "Рядок за індексом 'b': \n",
      "Name      Meniya\n",
      "Age           29\n",
      "Work    Musician\n",
      "Name: b, dtype: object\n",
      "\n",
      "Робота рядка за індексом 'с':  Singer\n",
      "\n",
      "Робота рядка за індексом 'a':  Operator\n",
      "\n",
      "Ім`я рядка за індексом 'b':  Meniya\n",
      "\n",
      "Ім`я рядка за індексом 'a':  Dai\n",
      "\n",
      "Вік рядка за індексом 'c':  38\n"
     ]
    }
   ],
   "source": [
    "print(\"Mаніпуляції з даними (loc, ...))\")\n",
    "print('\\n')\n",
    "print(\"Весь dataframe для демонстрації loc:\")\n",
    "\n",
    "# Створюємо DataFrame з індексацією\n",
    "data4 = {'Name': ['Dai', 'Meniya', 'Dave'],\n",
    "        'Age': [50, 29, 38],\n",
    "        'Work': ['Operator', 'Musician', 'Singer']}\n",
    "\n",
    "df4 = pd.DataFrame(data4, index=['a', 'b', 'c'])\n",
    "print(df4)\n",
    "print('\\n')\n",
    "\n",
    "# Вибираємо дані за допомогою індексації\n",
    "# Вибираємо рядок за міткою індексу 'b'\n",
    "row_b = df4.loc['b']\n",
    "\n",
    "# Вибираємо елемент за міткою індексу 'c' та назвою стовпця 'Work'\n",
    "work_of_row_c = df4.loc['c', 'Work']\n",
    "work_of_row_a = df4.loc['a', 'Work']\n",
    "name_of_row_b = df4.loc['b', 'Name']\n",
    "name_of_row_a = df4.loc['a', 'Name']\n",
    "age_of_row_c = df4.loc['c', 'Age']\n",
    "\n",
    "print(\"Рядок за індексом 'b': \")\n",
    "print(row_b)\n",
    "\n",
    "print(\"\\nРобота рядка за індексом 'с': \", work_of_row_c)\n",
    "print(\"\\nРобота рядка за індексом 'a': \", work_of_row_a)\n",
    "print(\"\\nІм`я рядка за індексом 'b': \", name_of_row_b)\n",
    "print(\"\\nІм`я рядка за індексом 'a': \", name_of_row_a)\n",
    "print(\"\\nВік рядка за індексом 'c': \", age_of_row_c)"
   ]
  },
  {
   "cell_type": "markdown",
   "metadata": {},
   "source": [
    "## Matplotlib"
   ]
  },
  {
   "cell_type": "markdown",
   "metadata": {},
   "source": [
    "(створити набір даних лінійної функції з урахуванням помилок вимірювань, побудувати графік функції та згенерованих даних, обчислити похибку з використанням метрик MAE, MSE). Записати отримані результати у csv файл (формат: X,Y, Y_hat, mAE, mSE)"
   ]
  },
  {
   "cell_type": "code",
   "execution_count": null,
   "metadata": {},
   "outputs": [],
   "source": []
  }
 ],
 "metadata": {
  "kernelspec": {
   "display_name": "myenv",
   "language": "python",
   "name": "python3"
  },
  "language_info": {
   "codemirror_mode": {
    "name": "ipython",
    "version": 3
   },
   "file_extension": ".py",
   "mimetype": "text/x-python",
   "name": "python",
   "nbconvert_exporter": "python",
   "pygments_lexer": "ipython3",
   "version": "3.8.18"
  },
  "orig_nbformat": 4
 },
 "nbformat": 4,
 "nbformat_minor": 2
}
