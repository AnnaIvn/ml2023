{
 "cells": [
  {
   "cell_type": "markdown",
   "metadata": {},
   "source": [
    "# Training to use NumPy library"
   ]
  },
  {
   "cell_type": "code",
   "execution_count": 27,
   "metadata": {},
   "outputs": [
    {
     "name": "stdout",
     "output_type": "stream",
     "text": [
      "\n",
      "Скалярний добуток a і b: 140\n",
      "Масив arr: [ 0  1  2  3  4  5  6  7  8  9 10 11 12 13]\n",
      "Елемент з індексом 13: 13\n",
      "Зріз від 6 до 11 (не включаючи 11): [ 6  7  8  9 10]\n",
      "Кожен п'ятий елемент: [ 0  5 10]\n"
     ]
    }
   ],
   "source": [
    "#%pip install numpy\n",
    "# import numpy as np\n",
    "\n",
    "# Створення одновимірного масиву\n",
    "# arr1 = np.array([1, 2, 3, 4, 5, 6])\n",
    "# print(\"Одновимірний масив: \")\n",
    "# print(arr1)\n",
    "\n",
    "# Створення двовимірного масиву (матриця)\n",
    "# arr2 = np.array([[2, 4, 6], [8, 10, 12], [14, 16, 18]])\n",
    "# print(\"Двовимірний масив: \")\n",
    "# print(arr2)\n",
    "\n",
    "# Матоперації над масивами\n",
    "# a1 = np.array([10, 20, 30])\n",
    "# a2 = np.array([1, 2, 3])\n",
    "# print(\"Масив a1:\", a1)\n",
    "# print(\"Масив a2:\", a2)\n",
    "# print(\"Додавання a1 + a2:\", a1 + a2)\n",
    "# print(\"Віднімання a - b:\", a1 - a2)\n",
    "# print(\"Множення a * b:\", a1 * a2)\n",
    "# print(\"Ділення a / b:\", a1 / a2)\n",
    "\n",
    "# Обчислення скалярного добутку\n",
    "dot_product = np.dot(a1, a2)\n",
    "print(\"\\nСкалярний добуток a і b:\", dot_product)\n",
    "\n",
    "# Індексація та зрізи\n",
    "arr = np.array([0, 1, 2, 3, 4, 5, 6, 7, 8, 9, 10, 11, 12, 13])\n",
    "print(\"Масив arr:\", arr)\n",
    "print(\"Елемент з індексом 13:\", arr[13])\n",
    "print(\"Зріз від 6 до 11 (не включаючи 11):\", arr[6:11])\n",
    "print(\"Кожен п'ятий елемент:\", arr[::5])"
   ]
  },
  {
   "cell_type": "code",
   "execution_count": 51,
   "metadata": {},
   "outputs": [
    {
     "name": "stdout",
     "output_type": "stream",
     "text": [
      "\n",
      " [[0.79769956 0.82375754 0.51854767]\n",
      " [0.50542881 0.32610984 0.46210142]\n",
      " [0.6077294  0.2825636  0.03684487]]\n",
      "\n",
      " [[25 18]\n",
      " [15 14]]\n",
      "\n",
      " [[ 1.    2.25  3.5 ]\n",
      " [ 4.75  6.    7.25]\n",
      " [ 8.5   9.75 11.  ]]\n"
     ]
    }
   ],
   "source": [
    "# Генерація масивів з використанням функцій NumPy\n",
    "import numpy as np\n",
    "\n",
    "# Створення масиву з нулів розміром 3x3\n",
    "# zeros_array = np.zeros((3, 3))\n",
    "# print(zeros_array)\n",
    "\n",
    "# Створення масиву з одиниць розміром 2x4\n",
    "# ones_array = np.ones((3, 4))\n",
    "# print(\"\\n\", ones_array)\n",
    "\n",
    "# Створення масиву розміром 3x3 зі згенерованими випадковими числами, від [0 до 1)\n",
    "random_array = np.random.rand(3, 3)\n",
    "print(\"\\n\", random_array)\n",
    "\n",
    "# Створення масиву розміром 2x2 зі згенерованими випадковими цілими числами від 1 до 30\n",
    "random_int_array = np.random.randint(1, 30, (2, 2))\n",
    "print(\"\\n\", random_int_array)\n",
    "\n",
    "# Створення послідовності чисел від 0 до 6\n",
    "# sequence_array = np.arange(7)\n",
    "# print(\"\\n\", sequence_array)\n",
    "\n",
    "# Створення масиву розміром 5x5 з рівномірно розподіленими значеннями від 1 до 11; 9 - к-сть елементів, 3Х3 - розмір\n",
    "uniform_array = np.linspace(1, 11, 9).reshape(3, 3)\n",
    "print(\"\\n\", uniform_array)\n",
    "\n",
    "\n"
   ]
  },
  {
   "cell_type": "markdown",
   "metadata": {},
   "source": [
    "# Початок виконання Практики2"
   ]
  },
  {
   "cell_type": "markdown",
   "metadata": {},
   "source": [
    "Підключення необхідних бібліотек"
   ]
  },
  {
   "cell_type": "code",
   "execution_count": 61,
   "metadata": {},
   "outputs": [],
   "source": [
    "# Імпортуємо необхідні бібліотеки:  \n",
    "import numpy as np                   # NumPy для роботи з числовими даними\n",
    "import pandas as pd                  # Pandas для обробки і аналізу даних\n",
    "import matplotlib.pyplot as plt      # Matplotlib для візуалізації результатів"
   ]
  },
  {
   "cell_type": "code",
   "execution_count": 65,
   "metadata": {},
   "outputs": [],
   "source": [
    "# # Генерація випадкових даних\n",
    "# np.random.seed(0)  # Щоб мати однакові результати при кожному запуску\n",
    "# num_samples = 100  # Кількість рядків (зразків)\n",
    "# num_features = 4  # Кількість ознак\n",
    "\n",
    "# # Генерація випадкових ознак і цільової змінної\n",
    "# data = np.random.rand(num_samples, num_features)  # Останній стовпець - це цільова змінна\n",
    "# columns = ['First_feature', 'Second_Feature', 'Third_Feature', 'Target(y)']\n",
    "# df = pd.DataFrame(data, columns=columns)          # створення таблиці з переданими стовпцями та інформацією\n",
    "\n",
    "# # Збереження даних у файл CSV\n",
    "# df.to_csv('випадкові_дані.csv', index=False)"
   ]
  },
  {
   "cell_type": "markdown",
   "metadata": {},
   "source": [
    "Генерація випадкових даних (перші 3 стовпчики - дані кредитних заявок, 4й - 1/0 - прийнято/не прийнято заявку)"
   ]
  },
  {
   "cell_type": "code",
   "execution_count": 82,
   "metadata": {},
   "outputs": [],
   "source": [
    "# Генерація випадкових даних\n",
    "np.random.seed(0)  # Щоб мати однакові результати при кожному запуску\n",
    "num_samples = 100  # Кількість рядків (зразків)\n",
    "num_features = 3  # Кількість ознак\n",
    "num_cat_features = 1  # Кількість категорійних ознак\n",
    "categories = [0, 1]  # Можливі категорії\n",
    "columns = ['Feature 1', 'Feature 2', 'Feature 3', 'Category(y/n)']\n",
    "\n",
    "# Генерація випадкових ознак\n",
    "data = np.random.rand(num_samples, num_features)  # генеруємо дані\n",
    "cat_features = np.random.choice(categories, size=(num_samples, num_cat_features))   # Генеруємо категорії\n",
    "\n",
    "all_data = np.hstack((data, cat_features))  # Об'єднуємо числові та категорійні ознаки, як матрицю ознак X \n",
    "\n",
    "df = pd.DataFrame(all_data, columns=columns)   # створення таблиці з переданими стовпцями та інформацією\n",
    "df.to_csv('випадкові_дані.csv', index=False)   # Збереження даних у файл CSV"
   ]
  },
  {
   "cell_type": "markdown",
   "metadata": {},
   "source": [
    "Вивід даних у зручній формі за допомогою Pandas"
   ]
  },
  {
   "cell_type": "code",
   "execution_count": 93,
   "metadata": {},
   "outputs": [
    {
     "name": "stdout",
     "output_type": "stream",
     "text": [
      "---Перегляд перших декількох рядків даних---\n",
      "   Feature 1  Feature 2  Feature 3  Category\n",
      "0   0.548814   0.715189   0.602763       0.0\n",
      "1   0.544883   0.423655   0.645894       0.0\n",
      "2   0.437587   0.891773   0.963663       1.0\n",
      "3   0.383442   0.791725   0.528895       1.0\n",
      "4   0.568045   0.925597   0.071036       1.0 \n",
      "\n",
      "---Вивід інформації про дані: к-сті рядків, стовпців, типу даних---\n",
      "<class 'pandas.core.frame.DataFrame'>\n",
      "RangeIndex: 100 entries, 0 to 99\n",
      "Data columns (total 4 columns):\n",
      " #   Column     Non-Null Count  Dtype  \n",
      "---  ------     --------------  -----  \n",
      " 0   Feature 1  100 non-null    float64\n",
      " 1   Feature 2  100 non-null    float64\n",
      " 2   Feature 3  100 non-null    float64\n",
      " 3   Category   100 non-null    float64\n",
      "dtypes: float64(4)\n",
      "memory usage: 3.2 KB\n",
      "None \n",
      "\n",
      "---Основні статистичні показники даних---\n",
      "        Feature 1   Feature 2   Feature 3    Category\n",
      "count  100.000000  100.000000  100.000000  100.000000\n",
      "mean     0.501680    0.486570    0.522258    0.530000\n",
      "std      0.297925    0.293510    0.281557    0.501614\n",
      "min      0.004695    0.011714    0.018522    0.000000\n",
      "25%      0.220639    0.226640    0.278800    0.000000\n",
      "50%      0.546848    0.483818    0.526071    1.000000\n",
      "75%      0.742727    0.714478    0.739335    1.000000\n",
      "max      0.990339    0.988374    0.998847    1.000000 \n",
      "\n"
     ]
    }
   ],
   "source": [
    "# Завантаження даних за допомогою Pandas\n",
    "data = pd.read_csv('випадкові_дані.csv')\n",
    "\n",
    "# Перегляд перших декількох рядків даних\n",
    "print(\"---Перегляд перших декількох рядків даних---\")\n",
    "print(data.head(), \"\\n\")\n",
    "\n",
    "# Вивести інформацію про дані, такі як кількість рядків, стовпців і типи даних\n",
    "print(\"---Вивід інформації про дані: к-сті рядків, стовпців, типу даних---\")\n",
    "print(data.info(), \"\\n\")\n",
    "\n",
    "# Вивести основні статистичні показники даних\n",
    "print(\"---Основні статистичні показники даних---\")\n",
    "print(data.describe(), \"\\n\")"
   ]
  },
  {
   "cell_type": "markdown",
   "metadata": {},
   "source": [
    "Підготовка даних (обробка пропущених, вибір функції для аналізу, розділення даних)"
   ]
  }
 ],
 "metadata": {
  "kernelspec": {
   "display_name": "myenv",
   "language": "python",
   "name": "python3"
  },
  "language_info": {
   "codemirror_mode": {
    "name": "ipython",
    "version": 3
   },
   "file_extension": ".py",
   "mimetype": "text/x-python",
   "name": "python",
   "nbconvert_exporter": "python",
   "pygments_lexer": "ipython3",
   "version": "3.8.18"
  },
  "orig_nbformat": 4
 },
 "nbformat": 4,
 "nbformat_minor": 2
}
