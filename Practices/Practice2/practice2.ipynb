{
 "cells": [
  {
   "cell_type": "markdown",
   "metadata": {},
   "source": [
    "# Training to use NumPy library"
   ]
  },
  {
   "cell_type": "code",
   "execution_count": 27,
   "metadata": {},
   "outputs": [
    {
     "name": "stdout",
     "output_type": "stream",
     "text": [
      "\n",
      "Скалярний добуток a і b: 140\n",
      "Масив arr: [ 0  1  2  3  4  5  6  7  8  9 10 11 12 13]\n",
      "Елемент з індексом 13: 13\n",
      "Зріз від 6 до 11 (не включаючи 11): [ 6  7  8  9 10]\n",
      "Кожен п'ятий елемент: [ 0  5 10]\n"
     ]
    }
   ],
   "source": [
    "#%pip install numpy\n",
    "# import numpy as np\n",
    "\n",
    "# Створення одновимірного масиву\n",
    "# arr1 = np.array([1, 2, 3, 4, 5, 6])\n",
    "# print(\"Одновимірний масив: \")\n",
    "# print(arr1)\n",
    "\n",
    "# Створення двовимірного масиву (матриця)\n",
    "# arr2 = np.array([[2, 4, 6], [8, 10, 12], [14, 16, 18]])\n",
    "# print(\"Двовимірний масив: \")\n",
    "# print(arr2)\n",
    "\n",
    "# Матоперації над масивами\n",
    "# a1 = np.array([10, 20, 30])\n",
    "# a2 = np.array([1, 2, 3])\n",
    "# print(\"Масив a1:\", a1)\n",
    "# print(\"Масив a2:\", a2)\n",
    "# print(\"Додавання a1 + a2:\", a1 + a2)\n",
    "# print(\"Віднімання a - b:\", a1 - a2)\n",
    "# print(\"Множення a * b:\", a1 * a2)\n",
    "# print(\"Ділення a / b:\", a1 / a2)\n",
    "\n",
    "# Обчислення скалярного добутку\n",
    "dot_product = np.dot(a1, a2)\n",
    "print(\"\\nСкалярний добуток a і b:\", dot_product)\n",
    "\n",
    "# Індексація та зрізи\n",
    "arr = np.array([0, 1, 2, 3, 4, 5, 6, 7, 8, 9, 10, 11, 12, 13])\n",
    "print(\"Масив arr:\", arr)\n",
    "print(\"Елемент з індексом 13:\", arr[13])\n",
    "print(\"Зріз від 6 до 11 (не включаючи 11):\", arr[6:11])\n",
    "print(\"Кожен п'ятий елемент:\", arr[::5])"
   ]
  },
  {
   "cell_type": "code",
   "execution_count": 51,
   "metadata": {},
   "outputs": [
    {
     "name": "stdout",
     "output_type": "stream",
     "text": [
      "\n",
      " [[0.79769956 0.82375754 0.51854767]\n",
      " [0.50542881 0.32610984 0.46210142]\n",
      " [0.6077294  0.2825636  0.03684487]]\n",
      "\n",
      " [[25 18]\n",
      " [15 14]]\n",
      "\n",
      " [[ 1.    2.25  3.5 ]\n",
      " [ 4.75  6.    7.25]\n",
      " [ 8.5   9.75 11.  ]]\n"
     ]
    }
   ],
   "source": [
    "# Генерація масивів з використанням функцій NumPy\n",
    "import numpy as np\n",
    "\n",
    "# Створення масиву з нулів розміром 3x3\n",
    "# zeros_array = np.zeros((3, 3))\n",
    "# print(zeros_array)\n",
    "\n",
    "# Створення масиву з одиниць розміром 2x4\n",
    "# ones_array = np.ones((3, 4))\n",
    "# print(\"\\n\", ones_array)\n",
    "\n",
    "# Створення масиву розміром 3x3 зі згенерованими випадковими числами, від [0 до 1)\n",
    "random_array = np.random.rand(3, 3)\n",
    "print(\"\\n\", random_array)\n",
    "\n",
    "# Створення масиву розміром 2x2 зі згенерованими випадковими цілими числами від 1 до 30\n",
    "random_int_array = np.random.randint(1, 30, (2, 2))\n",
    "print(\"\\n\", random_int_array)\n",
    "\n",
    "# Створення послідовності чисел від 0 до 6\n",
    "# sequence_array = np.arange(7)\n",
    "# print(\"\\n\", sequence_array)\n",
    "\n",
    "# Створення масиву розміром 5x5 з рівномірно розподіленими значеннями від 1 до 11; 9 - к-сть елементів, 3Х3 - розмір\n",
    "uniform_array = np.linspace(1, 11, 9).reshape(3, 3)\n",
    "print(\"\\n\", uniform_array)\n",
    "\n",
    "\n"
   ]
  },
  {
   "cell_type": "markdown",
   "metadata": {},
   "source": [
    "# Початок виконання Практики2"
   ]
  },
  {
   "cell_type": "markdown",
   "metadata": {},
   "source": [
    "Підключення необхідних бібліотек"
   ]
  },
  {
   "cell_type": "code",
   "execution_count": 156,
   "metadata": {},
   "outputs": [],
   "source": [
    "# Імпортуємо необхідні бібліотеки:  \n",
    "import numpy as np                   # NumPy для роботи з числовими даними\n",
    "import pandas as pd                  # Pandas для обробки і аналізу даних\n",
    "import matplotlib.pyplot as plt      # Matplotlib для візуалізації результатів"
   ]
  },
  {
   "cell_type": "markdown",
   "metadata": {},
   "source": [
    "Генерація випадкових даних (перші 3 стовпчики - дані кредитних заявок, 4й - 1/0 - прийнято/не прийнято заявку)"
   ]
  },
  {
   "cell_type": "code",
   "execution_count": 212,
   "metadata": {},
   "outputs": [],
   "source": [
    "# Генерація випадкових даних\n",
    "np.random.seed(0)  # Щоб мати однакові результати при кожному запуску\n",
    "num_samples = 100  # Кількість рядків (зразків)\n",
    "num_features = 3  # Кількість ознак\n",
    "num_cat_features = 1  # Кількість категорійних ознак\n",
    "categories = [0, 1]  # Можливі категорії\n",
    "columns = ['Feature 1', 'Feature 2', 'Feature 3', 'Category(y/n)']\n",
    "\n",
    "# Генерація випадкових ознак\n",
    "data = np.random.rand(num_samples, num_features)  # генеруємо дані\n",
    "cat_features = np.random.choice(categories, size=(num_samples, num_cat_features))   # Генеруємо категорії\n",
    "\n",
    "all_data = np.hstack((data, cat_features))  # Об'єднуємо числові та категорійні ознаки, як матрицю ознак X \n",
    "\n",
    "df = pd.DataFrame(all_data, columns=columns)   # створення таблиці з переданими стовпцями та інформацією\n",
    "df.to_csv('випадкові_дані.csv', index=False)   # Збереження даних у файл CSV"
   ]
  },
  {
   "cell_type": "markdown",
   "metadata": {},
   "source": [
    "Вивід даних у зручній формі за допомогою Pandas"
   ]
  },
  {
   "cell_type": "code",
   "execution_count": 213,
   "metadata": {},
   "outputs": [
    {
     "name": "stdout",
     "output_type": "stream",
     "text": [
      "---Перегляд перших декількох рядків даних---\n",
      "   Feature 1  Feature 2  Feature 3  Category(y/n)\n",
      "0   0.548814   0.715189   0.602763            0.0\n",
      "1   0.544883   0.423655   0.645894            0.0\n",
      "2   0.437587   0.891773   0.963663            1.0\n",
      "3   0.383442   0.791725   0.528895            1.0\n",
      "4   0.568045   0.925597   0.071036            1.0 \n",
      "\n",
      "---Вивід інформації про дані: к-сті рядків, стовпців, типу даних---\n",
      "<class 'pandas.core.frame.DataFrame'>\n",
      "RangeIndex: 100 entries, 0 to 99\n",
      "Data columns (total 4 columns):\n",
      " #   Column         Non-Null Count  Dtype  \n",
      "---  ------         --------------  -----  \n",
      " 0   Feature 1      100 non-null    float64\n",
      " 1   Feature 2      100 non-null    float64\n",
      " 2   Feature 3      100 non-null    float64\n",
      " 3   Category(y/n)  100 non-null    float64\n",
      "dtypes: float64(4)\n",
      "memory usage: 3.2 KB\n",
      "None \n",
      "\n",
      "---Основні статистичні показники даних---\n",
      "        Feature 1   Feature 2   Feature 3  Category(y/n)\n",
      "count  100.000000  100.000000  100.000000     100.000000\n",
      "mean     0.501680    0.486570    0.522258       0.530000\n",
      "std      0.297925    0.293510    0.281557       0.501614\n",
      "min      0.004695    0.011714    0.018522       0.000000\n",
      "25%      0.220639    0.226640    0.278800       0.000000\n",
      "50%      0.546848    0.483818    0.526071       1.000000\n",
      "75%      0.742727    0.714478    0.739335       1.000000\n",
      "max      0.990339    0.988374    0.998847       1.000000 \n",
      "\n"
     ]
    }
   ],
   "source": [
    "# Завантаження даних за допомогою Pandas\n",
    "data = pd.read_csv('випадкові_дані.csv')\n",
    "\n",
    "# Перегляд перших декількох рядків даних\n",
    "print(\"---Перегляд перших декількох рядків даних---\")\n",
    "print(data.head(), \"\\n\")\n",
    "\n",
    "# Вивести інформацію про дані, такі як кількість рядків, стовпців і типи даних\n",
    "print(\"---Вивід інформації про дані: к-сті рядків, стовпців, типу даних---\")\n",
    "print(data.info(), \"\\n\")\n",
    "\n",
    "# Вивести основні статистичні показники даних\n",
    "print(\"---Основні статистичні показники даних---\")\n",
    "print(data.describe(), \"\\n\")"
   ]
  },
  {
   "cell_type": "markdown",
   "metadata": {},
   "source": [
    "Підготовка даних (обробка пропущених, вибір функції для аналізу, розділення даних)"
   ]
  },
  {
   "cell_type": "code",
   "execution_count": 214,
   "metadata": {},
   "outputs": [],
   "source": [
    "# Обробка пропущених значень (якщо вони є)\n",
    "data = data.dropna()\n",
    "\n",
    "# Вибір функцій (ознак) для аналізу та цільової змінної\n",
    "X = data[['Feature 1', 'Feature 2', 'Feature 3']]\n",
    "y = data['Category(y/n)']\n",
    "\n",
    "# Розділення даних на тренувальний і тестовий набори\n",
    "from sklearn.model_selection import train_test_split\n",
    "X_train, X_test, y_train, y_test = train_test_split(X, y, test_size=0.2, random_state=42)"
   ]
  },
  {
   "cell_type": "markdown",
   "metadata": {},
   "source": [
    "Побудова моделі регресії за доп. RandomForestClassifier"
   ]
  },
  {
   "cell_type": "code",
   "execution_count": 254,
   "metadata": {},
   "outputs": [],
   "source": [
    "from sklearn.ensemble import RandomForestClassifier\n",
    "\n",
    "# Створення моделі випадкового лісу\n",
    "model = RandomForestClassifier(n_estimators=100, random_state=30)\n",
    "model.fit(X_train, y_train)\n",
    "\n",
    "# Оцінка моделі на тестових даних\n",
    "y_pred = model.predict(X_test)"
   ]
  },
  {
   "cell_type": "markdown",
   "metadata": {},
   "source": [
    "Використання Методу опорних векторів (Support Vector Machine, SVM)"
   ]
  },
  {
   "cell_type": "code",
   "execution_count": 216,
   "metadata": {},
   "outputs": [],
   "source": [
    "# SVM -  шукає гіперплощину в просторі ознак, що найкраще розділяє дані на класи\n",
    "from sklearn import svm\n",
    "\n",
    "\n",
    "model_svm = svm.SVC(kernel='linear')\n",
    "model_svm.fit(X_train, y_train)\n",
    "y_pred_svm = model_svm.predict(X_test)"
   ]
  },
  {
   "cell_type": "markdown",
   "metadata": {},
   "source": [
    "Використання Логістичної Регресії (LogisticRegression)"
   ]
  },
  {
   "cell_type": "code",
   "execution_count": 217,
   "metadata": {},
   "outputs": [],
   "source": [
    "# Ця модель застосовується для задач класифікації, де цільова змінна є категоріальною \n",
    "# (бінарною або багатокласовою)\n",
    "from sklearn.linear_model import LogisticRegression\n",
    "\n",
    "model_lreg = LogisticRegression()\n",
    "model_lreg.fit(X_train, y_train)\n",
    "y_pred_lreg = model_lreg.predict(X_test)"
   ]
  },
  {
   "cell_type": "markdown",
   "metadata": {},
   "source": [
    "Використання Дерева рішень (DecisionTreeClassifier)"
   ]
  },
  {
   "cell_type": "code",
   "execution_count": 218,
   "metadata": {},
   "outputs": [],
   "source": [
    "# може використовуватися як для задач класифікації, так і для задач регресії\n",
    "from sklearn.tree import DecisionTreeClassifier\n",
    "\n",
    "model_tree = DecisionTreeClassifier()\n",
    "model_tree.fit(X_train, y_train)\n",
    "y_pred_tree = model_lreg.predict(X_test)"
   ]
  },
  {
   "cell_type": "markdown",
   "metadata": {},
   "source": [
    "Оцінка моделі за доп. метрик: середньо-квадратична помилка(Mean Squared Error), коефіцієнт детермінації(R-squared)"
   ]
  },
  {
   "cell_type": "code",
   "execution_count": 255,
   "metadata": {},
   "outputs": [
    {
     "name": "stdout",
     "output_type": "stream",
     "text": [
      "Mean Squared Error, RandomForestClassifier: 0.25\n",
      "R-squared, RandomForestClassifier: -0.04166666666666652\n",
      "Точність моделі, RandomForestClassifier: 0.75\n",
      "Матриця неправильно класифікованих прикладів, RandomForestClassifier:\n",
      "[[8 4]\n",
      " [1 7]]\n",
      "\n",
      "\n",
      "Mean Squared Error, SVM: 0.5\n",
      "R-squared, SVM: -1.083333333333333\n",
      "Точність моделі, SVM: 0.50\n",
      "Матриця неправильно класифікованих прикладів, SVM:\n",
      "[[4 8]\n",
      " [2 6]]\n",
      "\n",
      "\n",
      "Mean Squared Error, Логістична Регресія: 0.55\n",
      "R-squared, Логістична Регресія: -1.2916666666666665\n",
      "Точність моделі, Логістична Регресія: 0.45\n",
      "Матриця неправильно класифікованих прикладів, Логістична Регресія:\n",
      "[[4 8]\n",
      " [3 5]]\n",
      "\n",
      "\n",
      "Mean Squared Error, DecisionTreeClassifier: 0.55\n",
      "R-squared, DecisionTreeClassifier: -1.2916666666666665\n",
      "Точність моделі, DecisionTreeClassifier: 0.45\n",
      "Матриця неправильно класифікованих прикладів, DecisionTreeClassifier:\n",
      "[[4 8]\n",
      " [3 5]]\n"
     ]
    }
   ],
   "source": [
    "from sklearn.metrics import mean_squared_error, r2_score, accuracy_score, confusion_matrix\n",
    "\n",
    "# для Лінійної Регресії\n",
    "mse = mean_squared_error(y_test, y_pred)                               # Обчислення середньо-квадратичної помилки (MSE)\n",
    "print(f'Mean Squared Error, RandomForestClassifier: {mse}')\n",
    "r2 = r2_score(y_test, y_pred)                                          # Обчислення R-squared\n",
    "print(f'R-squared, RandomForestClassifier: {r2}')  \n",
    "accuracy = accuracy_score(y_test, y_pred)                              # Обчислення точності моделі, тут помилка виникає\n",
    "print(f\"Точність моделі, RandomForestClassifier: {accuracy:.2f}\")\n",
    "conf_matrix = confusion_matrix(y_test, y_pred)          # Виведення матриці неправильно класифікованих прикладів\n",
    "print(\"Матриця неправильно класифікованих прикладів, RandomForestClassifier:\")\n",
    "print(conf_matrix)\n",
    "\n",
    "# для SVM\n",
    "mse_svm = mean_squared_error(y_test, y_pred_svm)                # Обчислення середньо-квадратичної помилки (MSE)\n",
    "print(\"\\n\")\n",
    "print(f'Mean Squared Error, SVM: {mse_svm}')\n",
    "r2_svm = r2_score(y_test, y_pred_svm)                           # Обчислення R-squared\n",
    "print(f'R-squared, SVM: {r2_svm}')\n",
    "accuracy_svm = accuracy_score(y_test, y_pred_svm)               # Визначення точності моделі\n",
    "print(f\"Точність моделі, SVM: {accuracy_svm:.2f}\")\n",
    "conf_matrix_svm = confusion_matrix(y_test, y_pred_svm)          # Виведення матриці неправильно класифікованих прикладів\n",
    "print(\"Матриця неправильно класифікованих прикладів, SVM:\")\n",
    "print(conf_matrix_svm)\n",
    "\n",
    "# для Логістичної Регресії\n",
    "mse_lreg = mean_squared_error(y_test, y_pred_lreg)                    # Обчислення середньо-квадратичної помилки (MSE)\n",
    "print(\"\\n\")\n",
    "print(f'Mean Squared Error, Логістична Регресія: {mse_lreg}')\n",
    "r2_lreg = r2_score(y_test, y_pred_lreg)                               # Обчислення R-squared\n",
    "print(f'R-squared, Логістична Регресія: {r2_lreg}')\n",
    "accuracy_lreg = accuracy_score(y_test, y_pred_lreg)                   # Визначення точності моделі\n",
    "print(f\"Точність моделі, Логістична Регресія: {accuracy_lreg:.2f}\")\n",
    "conf_matrix_lreg = confusion_matrix(y_test, y_pred_lreg)              # Виведення матриці неправильно класифікованих прикладів\n",
    "print(\"Матриця неправильно класифікованих прикладів, Логістична Регресія:\")\n",
    "print(conf_matrix_lreg)\n",
    "\n",
    "# для DecisionTreeClassifier\n",
    "mse_tree = mean_squared_error(y_test, y_pred_tree)                     # Обчислення середньо-квадратичної помилки (MSE)\n",
    "print(\"\\n\")\n",
    "print(f'Mean Squared Error, DecisionTreeClassifier: {mse_tree}')\n",
    "r2_tree = r2_score(y_test, y_pred_tree)                                # Обчислення R-squared\n",
    "print(f'R-squared, DecisionTreeClassifier: {r2_tree}')  \n",
    "accuracy_tree = accuracy_score(y_test, y_pred_tree)                    # Визначення точності моделі\n",
    "print(f\"Точність моделі, DecisionTreeClassifier: {accuracy_tree:.2f}\")\n",
    "conf_matrix_tree = confusion_matrix(y_test, y_pred_tree)               # Виведення матриці неправильно класифікованих прикладів\n",
    "print(\"Матриця неправильно класифікованих прикладів, DecisionTreeClassifier:\")\n",
    "print(conf_matrix_tree)"
   ]
  },
  {
   "cell_type": "code",
   "execution_count": 220,
   "metadata": {},
   "outputs": [
    {
     "name": "stdout",
     "output_type": "stream",
     "text": [
      "Звіт про класифікацію для :\n",
      "              precision    recall  f1-score   support\n",
      "\n",
      "         0.0       0.89      0.67      0.76        12\n",
      "         1.0       0.64      0.88      0.74         8\n",
      "\n",
      "    accuracy                           0.75        20\n",
      "   macro avg       0.76      0.77      0.75        20\n",
      "weighted avg       0.79      0.75      0.75        20\n",
      "\n",
      "\n",
      "\n",
      "Звіт про класифікацію для SVM:\n",
      "              precision    recall  f1-score   support\n",
      "\n",
      "         0.0       0.67      0.33      0.44        12\n",
      "         1.0       0.43      0.75      0.55         8\n",
      "\n",
      "    accuracy                           0.50        20\n",
      "   macro avg       0.55      0.54      0.49        20\n",
      "weighted avg       0.57      0.50      0.48        20\n",
      "\n",
      "\n",
      "\n",
      "Звіт про класифікацію для Логістичної Регресії:\n",
      "              precision    recall  f1-score   support\n",
      "\n",
      "         0.0       0.57      0.33      0.42        12\n",
      "         1.0       0.38      0.62      0.48         8\n",
      "\n",
      "    accuracy                           0.45        20\n",
      "   macro avg       0.48      0.48      0.45        20\n",
      "weighted avg       0.50      0.45      0.44        20\n",
      "\n",
      "\n",
      "\n",
      "Звіт про класифікацію для DecisionTreeClassifier:\n",
      "              precision    recall  f1-score   support\n",
      "\n",
      "         0.0       0.57      0.33      0.42        12\n",
      "         1.0       0.38      0.62      0.48         8\n",
      "\n",
      "    accuracy                           0.45        20\n",
      "   macro avg       0.48      0.48      0.45        20\n",
      "weighted avg       0.50      0.45      0.44        20\n",
      "\n"
     ]
    }
   ],
   "source": [
    "from sklearn.metrics import classification_report\n",
    "\n",
    "# для DecisionTreeClassifier\n",
    "class_report = classification_report(y_test, y_pred)    # Виведення звіту про класифікацію\n",
    "print(\"Звіт про класифікацію для :\")\n",
    "print(class_report)\n",
    "\n",
    "# для SVM\n",
    "class_report_svm = classification_report(y_test, y_pred_svm)    # Виведення звіту про класифікацію\n",
    "print(\"\\n\")\n",
    "print(\"Звіт про класифікацію для SVM:\")\n",
    "print(class_report_svm)\n",
    "\n",
    "# для Логістичної Регресії\n",
    "class_report_lreg = classification_report(y_test, y_pred_lreg)    # Виведення звіту про класифікацію\n",
    "print(\"\\n\")\n",
    "print(\"Звіт про класифікацію для Логістичної Регресії:\")\n",
    "print(class_report_lreg)\n",
    "\n",
    "# для DecisionTreeClassifier\n",
    "class_report_tree = classification_report(y_test, y_pred_tree)    # Виведення звіту про класифікацію\n",
    "print(\"\\n\")\n",
    "print(\"Звіт про класифікацію для DecisionTreeClassifier:\")\n",
    "print(class_report_tree)"
   ]
  },
  {
   "cell_type": "markdown",
   "metadata": {},
   "source": [
    "Візуалізація результатів за доп. бібліотеки matplotlib.pyplot"
   ]
  },
  {
   "cell_type": "code",
   "execution_count": 221,
   "metadata": {},
   "outputs": [
    {
     "data": {
      "image/png": "[encoded data removed]",
      "text/plain": [
       "<Figure size 640x480 with 1 Axes>"
      ]
     },
     "metadata": {},
     "output_type": "display_data"
    },
    {
     "data": {
      "image/png": "[encoded data removed]",
      "text/plain": [
       "<Figure size 640x480 with 1 Axes>"
      ]
     },
     "metadata": {},
     "output_type": "display_data"
    },
    {
     "data": {
      "image/png": "[encoded data removed]",
      "text/plain": [
       "<Figure size 640x480 with 1 Axes>"
      ]
     },
     "metadata": {},
     "output_type": "display_data"
    },
    {
     "data": {
      "image/png": "[encoded data removed]",
      "text/plain": [
       "<Figure size 640x480 with 1 Axes>"
      ]
     },
     "metadata": {},
     "output_type": "display_data"
    }
   ],
   "source": [
    "# Візуалізація реальних та прогнозованих значень\n",
    "\n",
    "# Для DecisionTreeClassifier\n",
    "plt.scatter(y_test, y_pred)\n",
    "plt.xlabel('Реальні дані')\n",
    "plt.ylabel('Прогнозовані дані')\n",
    "plt.title('Реальні vs. Прогнозовані дані (DecisionTreeClassifier)')\n",
    "plt.show()\n",
    "\n",
    "# Для SVM\n",
    "plt.scatter(y_test, y_pred_svm)\n",
    "plt.xlabel('Реальні дані')\n",
    "plt.ylabel('Прогнозовані дані')\n",
    "plt.title('Реальні vs. Прогнозовані дані (SVM)')\n",
    "plt.show()\n",
    "\n",
    "# Для Логістичної регресії\n",
    "plt.scatter(y_test, y_pred_lreg)\n",
    "plt.xlabel('Реальні дані')\n",
    "plt.ylabel('Прогнозовані дані')\n",
    "plt.title('Реальні vs. Прогнозовані дані (LogisticRegression)')\n",
    "plt.show()\n",
    "\n",
    "# Для DecisionTreeClassifier\n",
    "plt.scatter(y_test, y_pred_tree)\n",
    "plt.xlabel('Реальні дані')\n",
    "plt.ylabel('Прогнозовані дані')\n",
    "plt.title('Реальні vs. Прогнозовані дані (DecisionTreeClassifier)')\n",
    "plt.show()"
   ]
  }
 ],
 "metadata": {
  "kernelspec": {
   "display_name": "myenv",
   "language": "python",
   "name": "python3"
  },
  "language_info": {
   "codemirror_mode": {
    "name": "ipython",
    "version": 3
   },
   "file_extension": ".py",
   "mimetype": "text/x-python",
   "name": "python",
   "nbconvert_exporter": "python",
   "pygments_lexer": "ipython3",
   "version": "3.8.18"
  },
  "orig_nbformat": 4
 },
 "nbformat": 4,
 "nbformat_minor": 2
}
