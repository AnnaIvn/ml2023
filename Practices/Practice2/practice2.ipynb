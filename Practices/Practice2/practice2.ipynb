{
 "cells": [
  {
   "cell_type": "markdown",
   "metadata": {},
   "source": [
    "# Training to use NumPy library"
   ]
  },
  {
   "cell_type": "code",
   "execution_count": 27,
   "metadata": {},
   "outputs": [
    {
     "name": "stdout",
     "output_type": "stream",
     "text": [
      "\n",
      "Скалярний добуток a і b: 140\n",
      "Масив arr: [ 0  1  2  3  4  5  6  7  8  9 10 11 12 13]\n",
      "Елемент з індексом 13: 13\n",
      "Зріз від 6 до 11 (не включаючи 11): [ 6  7  8  9 10]\n",
      "Кожен п'ятий елемент: [ 0  5 10]\n"
     ]
    }
   ],
   "source": [
    "#%pip install numpy\n",
    "# import numpy as np\n",
    "\n",
    "# Створення одновимірного масиву\n",
    "# arr1 = np.array([1, 2, 3, 4, 5, 6])\n",
    "# print(\"Одновимірний масив: \")\n",
    "# print(arr1)\n",
    "\n",
    "# Створення двовимірного масиву (матриця)\n",
    "# arr2 = np.array([[2, 4, 6], [8, 10, 12], [14, 16, 18]])\n",
    "# print(\"Двовимірний масив: \")\n",
    "# print(arr2)\n",
    "\n",
    "# Матоперації над масивами\n",
    "# a1 = np.array([10, 20, 30])\n",
    "# a2 = np.array([1, 2, 3])\n",
    "# print(\"Масив a1:\", a1)\n",
    "# print(\"Масив a2:\", a2)\n",
    "# print(\"Додавання a1 + a2:\", a1 + a2)\n",
    "# print(\"Віднімання a - b:\", a1 - a2)\n",
    "# print(\"Множення a * b:\", a1 * a2)\n",
    "# print(\"Ділення a / b:\", a1 / a2)\n",
    "\n",
    "# Обчислення скалярного добутку\n",
    "dot_product = np.dot(a1, a2)\n",
    "print(\"\\nСкалярний добуток a і b:\", dot_product)\n",
    "\n",
    "# Індексація та зрізи\n",
    "arr = np.array([0, 1, 2, 3, 4, 5, 6, 7, 8, 9, 10, 11, 12, 13])\n",
    "print(\"Масив arr:\", arr)\n",
    "print(\"Елемент з індексом 13:\", arr[13])\n",
    "print(\"Зріз від 6 до 11 (не включаючи 11):\", arr[6:11])\n",
    "print(\"Кожен п'ятий елемент:\", arr[::5])"
   ]
  },
  {
   "cell_type": "code",
   "execution_count": 51,
   "metadata": {},
   "outputs": [
    {
     "name": "stdout",
     "output_type": "stream",
     "text": [
      "\n",
      " [[0.79769956 0.82375754 0.51854767]\n",
      " [0.50542881 0.32610984 0.46210142]\n",
      " [0.6077294  0.2825636  0.03684487]]\n",
      "\n",
      " [[25 18]\n",
      " [15 14]]\n",
      "\n",
      " [[ 1.    2.25  3.5 ]\n",
      " [ 4.75  6.    7.25]\n",
      " [ 8.5   9.75 11.  ]]\n"
     ]
    }
   ],
   "source": [
    "# Генерація масивів з використанням функцій NumPy\n",
    "import numpy as np\n",
    "\n",
    "# Створення масиву з нулів розміром 3x3\n",
    "# zeros_array = np.zeros((3, 3))\n",
    "# print(zeros_array)\n",
    "\n",
    "# Створення масиву з одиниць розміром 2x4\n",
    "# ones_array = np.ones((3, 4))\n",
    "# print(\"\\n\", ones_array)\n",
    "\n",
    "# Створення масиву розміром 3x3 зі згенерованими випадковими числами, від [0 до 1)\n",
    "random_array = np.random.rand(3, 3)\n",
    "print(\"\\n\", random_array)\n",
    "\n",
    "# Створення масиву розміром 2x2 зі згенерованими випадковими цілими числами від 1 до 30\n",
    "random_int_array = np.random.randint(1, 30, (2, 2))\n",
    "print(\"\\n\", random_int_array)\n",
    "\n",
    "# Створення послідовності чисел від 0 до 6\n",
    "# sequence_array = np.arange(7)\n",
    "# print(\"\\n\", sequence_array)\n",
    "\n",
    "# Створення масиву розміром 5x5 з рівномірно розподіленими значеннями від 1 до 11; 9 - к-сть елементів, 3Х3 - розмір\n",
    "uniform_array = np.linspace(1, 11, 9).reshape(3, 3)\n",
    "print(\"\\n\", uniform_array)\n",
    "\n",
    "\n"
   ]
  }
 ],
 "metadata": {
  "kernelspec": {
   "display_name": "myenv",
   "language": "python",
   "name": "python3"
  },
  "language_info": {
   "codemirror_mode": {
    "name": "ipython",
    "version": 3
   },
   "file_extension": ".py",
   "mimetype": "text/x-python",
   "name": "python",
   "nbconvert_exporter": "python",
   "pygments_lexer": "ipython3",
   "version": "3.8.18"
  },
  "orig_nbformat": 4
 },
 "nbformat": 4,
 "nbformat_minor": 2
}
