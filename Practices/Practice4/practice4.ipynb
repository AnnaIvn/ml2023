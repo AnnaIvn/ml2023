{
 "cells": [
  {
   "cell_type": "markdown",
   "metadata": {},
   "source": [
    "# Завдання на практичну роботу #4"
   ]
  },
  {
   "cell_type": "markdown",
   "metadata": {},
   "source": [
    "## Частина перша - Бінарна класифікація (Binary Classification):\n",
    "\n",
    "Використовуйте набір даних \"classification_dataset.csv\" для бінарної класифікації.\n",
    "Розділіть дані на навчальний та тестовий набори.\n",
    "Навчіть класифікатор (наприклад, логістичну регресію або метод опорних векторів) та оцініть його ефективність за допомогою метрик, таких як точність, відгук, F1-середнє і AUC-ROC.\n",
    "Візуалізуйте матрицю плутанини та навчіться розпізнавати типи помилок."
   ]
  },
  {
   "cell_type": "markdown",
   "metadata": {},
   "source": [
    "Бінарна класифікація: Де модель визначає, чи належить вхідний зразок одному з двох класів, наприклад, \"позитивний\" або \"негативний\", \"хворий\" або \"здоровий\"."
   ]
  },
  {
   "cell_type": "markdown",
   "metadata": {},
   "source": [
    "### Підготовка даних"
   ]
  },
  {
   "cell_type": "markdown",
   "metadata": {},
   "source": [
    "Імпорт бібліотек"
   ]
  },
  {
   "cell_type": "code",
   "execution_count": 269,
   "metadata": {},
   "outputs": [],
   "source": [
    "# Імпорт необхідних бібліотек\n",
    "import numpy as np\n",
    "import pandas as pd\n",
    "import matplotlib.pyplot as plt\n",
    "import seaborn as sns\n",
    "\n",
    "from sklearn.preprocessing import StandardScaler\n",
    "from sklearn.model_selection import GridSearchCV\n",
    "\n",
    "from sklearn.metrics import accuracy_score\n",
    "from sklearn.model_selection import cross_val_score\n",
    "from sklearn.model_selection import cross_val_predict\n",
    "from sklearn.model_selection import train_test_split\n",
    "from sklearn.metrics import confusion_matrix\n",
    "\n",
    "from sklearn.ensemble import RandomForestClassifier\n",
    "from sklearn.linear_model import LogisticRegression\n",
    "from sklearn.tree import DecisionTreeRegressor\n"
   ]
  },
  {
   "cell_type": "markdown",
   "metadata": {},
   "source": [
    "Завантаження даних з файлу"
   ]
  },
  {
   "cell_type": "code",
   "execution_count": 270,
   "metadata": {},
   "outputs": [],
   "source": [
    "# Завантаження даних\n",
    "data = pd.read_csv('classification_dataset.csv')"
   ]
  },
  {
   "cell_type": "code",
   "execution_count": 271,
   "metadata": {},
   "outputs": [
    {
     "name": "stdout",
     "output_type": "stream",
     "text": [
      "   Feature1  Feature2  Target\n",
      "0 -0.872929  0.013042       1\n",
      "1  1.312935  2.770534       1\n",
      "2  2.340428  2.420996       1\n",
      "3  2.294548 -0.404380       1\n",
      "4  0.944105  0.477241       1\n"
     ]
    }
   ],
   "source": [
    "print(data.head())"
   ]
  },
  {
   "cell_type": "markdown",
   "metadata": {},
   "source": [
    "Перевірка на пропущені значення\n"
   ]
  },
  {
   "cell_type": "code",
   "execution_count": 272,
   "metadata": {},
   "outputs": [
    {
     "name": "stdout",
     "output_type": "stream",
     "text": [
      "Series([], dtype: int64)\n"
     ]
    }
   ],
   "source": [
    "# Перевірка на пропущені значення\n",
    "missing_values = data.isnull().sum()\n",
    "non_zero_missing_values = missing_values[missing_values > 0]\n",
    "print(non_zero_missing_values)\n",
    "\n",
    "# Нема"
   ]
  },
  {
   "cell_type": "code",
   "execution_count": 285,
   "metadata": {},
   "outputs": [
    {
     "data": {
      "text/plain": [
       "Target\n",
       "1    100\n",
       "0    100\n",
       "Name: count, dtype: int64"
      ]
     },
     "execution_count": 285,
     "metadata": {},
     "output_type": "execute_result"
    }
   ],
   "source": [
    "data['Target'].value_counts()"
   ]
  },
  {
   "cell_type": "markdown",
   "metadata": {},
   "source": [
    "Cross-Validation"
   ]
  },
  {
   "cell_type": "code",
   "execution_count": 273,
   "metadata": {},
   "outputs": [],
   "source": [
    "# Вибір цільової змінної (відгуку) та предикторів\n",
    "\n",
    "np.random.seed(42)\n",
    "\n",
    "X = data.drop(['Target'], axis=1)\n",
    "y = data['Target']\n",
    "\n",
    "clf = RandomForestClassifier(n_estimators=100)\n",
    "# Перехресна оцінка RandomForestClassifier\n",
    "scores = cross_val_score(clf, X, y, cv=5, scoring='accuracy')           # Accuracy\n",
    "cv_precision = cross_val_score(clf, X, y, cv=5, scoring='precision')    # Precision\n",
    "cv_recall = cross_val_score(clf, X, y, cv=5, scoring='recall')          # Recall\n",
    "cv_f1 = cross_val_score(clf, X, y, cv=5, scoring='f1')                  # F1\n",
    "cv_r2 = cross_val_score(clf, X, y, cv=5, scoring='r2')                  # R2\n",
    "cv_mae = cross_val_score(clf, X, y, cv=5, scoring='neg_mean_absolute_error')    # mean absolute error\n",
    "cv_mse = cross_val_score(clf, X, y, cv=5, scoring='neg_mean_squared_error')    # mean squared error\n",
    "mean_accuracy = scores.mean()\n",
    "std_accuracy = scores.std()\n",
    "\n",
    "# lr_model = LogisticRegression()\n",
    "lr_model = LogisticRegression(penalty='l2', C=1.0, fit_intercept=True, solver='lbfgs', max_iter=200)\n",
    "# Перехресна оцінка LogisticRegression\n",
    "scores_lr = cross_val_score(lr_model, X, y, cv=5, scoring='accuracy')           # Accuracy\n",
    "cv_precision_lr = cross_val_score(lr_model, X, y, cv=5, scoring='precision')    # Precision\n",
    "cv_recall_lr = cross_val_score(lr_model, X, y, cv=5, scoring='recall')          # Recall\n",
    "cv_f1_lr = cross_val_score(lr_model, X, y, cv=5, scoring='f1')                  # F1\n",
    "cv_r2_lr = cross_val_score(lr_model, X, y, cv=5, scoring='r2')                  # R2\n",
    "cv_mae_lr = cross_val_score(lr_model, X, y, cv=5, scoring='neg_mean_absolute_error')    # mean absolute error\n",
    "cv_mse_lr = cross_val_score(lr_model, X, y, cv=5, scoring='neg_mean_squared_error')    # mean squared error\n",
    "mean_accuracy_lr = scores_lr.mean()\n",
    "std_accuracy_lr = scores_lr.std()\n",
    "\n",
    "dt_model = DecisionTreeRegressor()\n",
    "# Перехресна оцінка DecisionTreeRegressor\n",
    "scores_dt = cross_val_score(dt_model, X, y, cv=5, scoring='accuracy')           # Accuracy\n",
    "cv_precision_dt = cross_val_score(dt_model, X, y, cv=5, scoring='precision')    # Precision\n",
    "cv_recall_dt = cross_val_score(dt_model, X, y, cv=5, scoring='recall')          # Recall\n",
    "cv_f1_dt = cross_val_score(dt_model, X, y, cv=5, scoring='f1')                  # F1\n",
    "cv_r2_dt = cross_val_score(dt_model, X, y, cv=5, scoring='r2')                  # R2\n",
    "cv_mae_dt = cross_val_score(dt_model, X, y, cv=5, scoring='neg_mean_absolute_error')    # mean absolute error\n",
    "cv_mse_dt = cross_val_score(dt_model, X, y, cv=5, scoring='neg_mean_squared_error')    # mean squared error\n",
    "mean_accuracy_dt = scores_dt.mean()\n",
    "std_accuracy_dt = scores_dt.std()\n",
    "\n"
   ]
  },
  {
   "cell_type": "code",
   "execution_count": 274,
   "metadata": {},
   "outputs": [
    {
     "name": "stdout",
     "output_type": "stream",
     "text": [
      "\n",
      "---For Random Forest Classifier---\n",
      "Середня Точність: 84.00%\n",
      "Стандартне відхилення точності: 0.06\n",
      "Precision: 0.86\n",
      "Recall: 0.84\n",
      "F-1: 0.84\n",
      "R-2: 0.36\n",
      "Mean Absolute Error (higher=better): -0.14\n",
      "Mean Squared Error (higher=better): -0.16\n",
      "\n",
      "---For Logistic Regressionr---\n",
      "Середня Точність: 83.50%\n",
      "Стандартне відхилення точності: 0.06\n",
      "Precision: 0.84\n",
      "Recall: 0.84\n",
      "F-1: 0.83\n",
      "R-2: 0.34\n",
      "Mean Absolute Error (higher=better): -0.16\n",
      "Mean Squared Error (higher=better): -0.16\n",
      "\n",
      "---Decision Tree Regressor---\n",
      "Середня Точність: 80.00%\n",
      "Стандартне відхилення точності: 0.05\n",
      "Precision: 0.81\n",
      "Recall: 0.83\n",
      "F-1: 0.79\n",
      "R-2: 0.21\n",
      "Mean Absolute Error (higher=better): -0.20\n",
      "Mean Squared Error (higher=better): -0.20\n"
     ]
    }
   ],
   "source": [
    "print('\\n---For Random Forest Classifier---')\n",
    "print(f'Середня Точність: {mean_accuracy*100:.2f}%')\n",
    "print(\"Стандартне відхилення точності: {:.2f}\".format(std_accuracy))\n",
    "print(f'Precision: {np.mean(cv_precision):.2f}')\n",
    "print(f'Recall: {np.mean(cv_recall):.2f}')\n",
    "print(f'F-1: {np.mean(cv_f1):.2f}')\n",
    "print(f'R-2: {np.mean(cv_r2):.2f}')\n",
    "print(f'Mean Absolute Error (higher=better): {np.mean(cv_mae):.2f}')\n",
    "print(f'Mean Squared Error (higher=better): {np.mean(cv_mse):.2f}')\n",
    "\n",
    "print('\\n---For Logistic Regression---')\n",
    "print(f'Середня Точність: {mean_accuracy_lr*100:.2f}%')\n",
    "print(\"Стандартне відхилення точності: {:.2f}\".format(std_accuracy_lr))\n",
    "print(f'Precision: {np.mean(cv_precision_lr):.2f}')\n",
    "print(f'Recall: {np.mean(cv_recall_lr):.2f}')\n",
    "print(f'F-1: {np.mean(cv_f1_lr):.2f}')\n",
    "print(f'R-2: {np.mean(cv_r2_lr):.2f}')\n",
    "print(f'Mean Absolute Error (higher=better): {np.mean(cv_mae_lr):.2f}')\n",
    "print(f'Mean Squared Error (higher=better): {np.mean(cv_mse_lr):.2f}')\n",
    "\n",
    "print('\\n---Decision Tree Regressor---')\n",
    "print(f'Середня Точність: {mean_accuracy_dt*100:.2f}%')\n",
    "print(\"Стандартне відхилення точності: {:.2f}\".format(std_accuracy_dt))\n",
    "print(f'Precision: {np.mean(cv_precision_dt):.2f}')\n",
    "print(f'Recall: {np.mean(cv_recall_dt):.2f}')\n",
    "print(f'F-1: {np.mean(cv_f1_dt):.2f}')\n",
    "print(f'R-2: {np.mean(cv_r2_dt):.2f}')\n",
    "print(f'Mean Absolute Error (higher=better): {np.mean(cv_mae_dt):.2f}')\n",
    "print(f'Mean Squared Error (higher=better): {np.mean(cv_mse_dt):.2f}')"
   ]
  },
  {
   "cell_type": "code",
   "execution_count": 280,
   "metadata": {},
   "outputs": [
    {
     "name": "stdout",
     "output_type": "stream",
     "text": [
      "Матриця плутанини Random Forest Classifier:\n",
      "[[84 16]\n",
      " [15 85]]\n",
      "\n",
      "Матриця плутанини Logistic Regressionr:\n",
      "[[83 17]\n",
      " [16 84]]\n",
      "\n",
      "Матриця плутанини Decision Tree Regressor:\n",
      "[[80 20]\n",
      " [18 82]]\n"
     ]
    }
   ],
   "source": [
    "y_pred_cv = cross_val_predict(clf, X, y, cv=5) \n",
    "conf_matrix = confusion_matrix(y, y_pred_cv)\n",
    "print(\"Матриця плутанини Random Forest Classifier:\")\n",
    "print(conf_matrix)\n",
    "\n",
    "y_pred_cv_lr = cross_val_predict(lr_model, X, y, cv=5) \n",
    "conf_matrix_lr = confusion_matrix(y, y_pred_cv_lr)\n",
    "print(\"\\nМатриця плутанини Logistic Regressionr:\")\n",
    "print(conf_matrix_lr)\n",
    "\n",
    "y_pred_cv_dt = cross_val_predict(dt_model, X, y, cv=5) \n",
    "conf_matrix_dt = confusion_matrix(y, y_pred_cv_dt)\n",
    "print(\"\\nМатриця плутанини Decision Tree Regressor:\")\n",
    "print(conf_matrix_dt)\n"
   ]
  },
  {
   "cell_type": "code",
   "execution_count": 283,
   "metadata": {},
   "outputs": [
    {
     "ename": "TypeError",
     "evalue": "'LogisticRegression' object is not subscriptable",
     "output_type": "error",
     "traceback": [
      "\u001b[1;31m---------------------------------------------------------------------------\u001b[0m",
      "\u001b[1;31mTypeError\u001b[0m                                 Traceback (most recent call last)",
      "\u001b[1;32md:\\Lessons\\3rd Year, 1st course\\Intelligent data analysis\\My main local repo (for labs, practicies)\\ml2023\\Practices\\Practice4\\practice4.ipynb Cell 16\u001b[0m line \u001b[0;36m3\n\u001b[0;32m      <a href='vscode-notebook-cell:/d%3A/Lessons/3rd%20Year%2C%201st%20course/Intelligent%20data%20analysis/My%20main%20local%20repo%20%28for%20labs%2C%20practicies%29/ml2023/Practices/Practice4/practice4.ipynb#X53sZmlsZQ%3D%3D?line=0'>1</a>\u001b[0m \u001b[39m# Візуалізація розподілу цільової змінної (target)\u001b[39;00m\n\u001b[0;32m      <a href='vscode-notebook-cell:/d%3A/Lessons/3rd%20Year%2C%201st%20course/Intelligent%20data%20analysis/My%20main%20local%20repo%20%28for%20labs%2C%20practicies%29/ml2023/Practices/Practice4/practice4.ipynb#X53sZmlsZQ%3D%3D?line=1'>2</a>\u001b[0m plt\u001b[39m.\u001b[39mfigure(figsize\u001b[39m=\u001b[39m(\u001b[39m8\u001b[39m, \u001b[39m6\u001b[39m))\n\u001b[1;32m----> <a href='vscode-notebook-cell:/d%3A/Lessons/3rd%20Year%2C%201st%20course/Intelligent%20data%20analysis/My%20main%20local%20repo%20%28for%20labs%2C%20practicies%29/ml2023/Practices/Practice4/practice4.ipynb#X53sZmlsZQ%3D%3D?line=2'>3</a>\u001b[0m sns\u001b[39m.\u001b[39mhistplot(lr_model[\u001b[39m'\u001b[39;49m\u001b[39mTarget\u001b[39;49m\u001b[39m'\u001b[39;49m], kde\u001b[39m=\u001b[39m\u001b[39mTrue\u001b[39;00m)\n\u001b[0;32m      <a href='vscode-notebook-cell:/d%3A/Lessons/3rd%20Year%2C%201st%20course/Intelligent%20data%20analysis/My%20main%20local%20repo%20%28for%20labs%2C%20practicies%29/ml2023/Practices/Practice4/practice4.ipynb#X53sZmlsZQ%3D%3D?line=3'>4</a>\u001b[0m plt\u001b[39m.\u001b[39mxlabel(\u001b[39m'\u001b[39m\u001b[39mЦільова змінна\u001b[39m\u001b[39m'\u001b[39m)\n\u001b[0;32m      <a href='vscode-notebook-cell:/d%3A/Lessons/3rd%20Year%2C%201st%20course/Intelligent%20data%20analysis/My%20main%20local%20repo%20%28for%20labs%2C%20practicies%29/ml2023/Practices/Practice4/practice4.ipynb#X53sZmlsZQ%3D%3D?line=4'>5</a>\u001b[0m plt\u001b[39m.\u001b[39mylabel(\u001b[39m'\u001b[39m\u001b[39mЧастота\u001b[39m\u001b[39m'\u001b[39m)\n",
      "\u001b[1;31mTypeError\u001b[0m: 'LogisticRegression' object is not subscriptable"
     ]
    },
    {
     "data": {
      "text/plain": [
       "<Figure size 800x600 with 0 Axes>"
      ]
     },
     "metadata": {},
     "output_type": "display_data"
    }
   ],
   "source": [
    "# Візуалізація розподілу цільової змінної (target)\n",
    "plt.figure(figsize=(8, 6))\n",
    "sns.histplot(lr_model['Target'], kde=True)\n",
    "plt.xlabel('Цільова змінна')\n",
    "plt.ylabel('Частота')\n",
    "plt.title('Розподіл цільової змінної')\n",
    "plt.show()"
   ]
  },
  {
   "cell_type": "markdown",
   "metadata": {},
   "source": [
    "### Тренування, оцінка моделей"
   ]
  },
  {
   "cell_type": "markdown",
   "metadata": {},
   "source": [
    "Тренування моделей"
   ]
  },
  {
   "cell_type": "markdown",
   "metadata": {},
   "source": [
    "Оцінка точності моделей"
   ]
  },
  {
   "cell_type": "code",
   "execution_count": null,
   "metadata": {},
   "outputs": [
    {
     "ename": "NameError",
     "evalue": "name 'y_test' is not defined",
     "output_type": "error",
     "traceback": [
      "\u001b[1;31m---------------------------------------------------------------------------\u001b[0m",
      "\u001b[1;31mNameError\u001b[0m                                 Traceback (most recent call last)",
      "\u001b[1;32md:\\Lessons\\3rd Year, 1st course\\Intelligent data analysis\\My main local repo (for labs, practicies)\\ml2023\\Practices\\Practice4\\practice4.ipynb Cell 19\u001b[0m line \u001b[0;36m2\n\u001b[0;32m      <a href='vscode-notebook-cell:/d%3A/Lessons/3rd%20Year%2C%201st%20course/Intelligent%20data%20analysis/My%20main%20local%20repo%20%28for%20labs%2C%20practicies%29/ml2023/Practices/Practice4/practice4.ipynb#X25sZmlsZQ%3D%3D?line=0'>1</a>\u001b[0m \u001b[39m# Оцінка точності Логістичної моделі \u001b[39;00m\n\u001b[1;32m----> <a href='vscode-notebook-cell:/d%3A/Lessons/3rd%20Year%2C%201st%20course/Intelligent%20data%20analysis/My%20main%20local%20repo%20%28for%20labs%2C%20practicies%29/ml2023/Practices/Practice4/practice4.ipynb#X25sZmlsZQ%3D%3D?line=1'>2</a>\u001b[0m accuracy \u001b[39m=\u001b[39m accuracy_score(y_test, y_pred_lr)\n\u001b[0;32m      <a href='vscode-notebook-cell:/d%3A/Lessons/3rd%20Year%2C%201st%20course/Intelligent%20data%20analysis/My%20main%20local%20repo%20%28for%20labs%2C%20practicies%29/ml2023/Practices/Practice4/practice4.ipynb#X25sZmlsZQ%3D%3D?line=2'>3</a>\u001b[0m recall \u001b[39m=\u001b[39m recall_score(y_test, y_pred_lr)\n\u001b[0;32m      <a href='vscode-notebook-cell:/d%3A/Lessons/3rd%20Year%2C%201st%20course/Intelligent%20data%20analysis/My%20main%20local%20repo%20%28for%20labs%2C%20practicies%29/ml2023/Practices/Practice4/practice4.ipynb#X25sZmlsZQ%3D%3D?line=3'>4</a>\u001b[0m f1 \u001b[39m=\u001b[39m f1_score(y_test, y_pred_lr)\n",
      "\u001b[1;31mNameError\u001b[0m: name 'y_test' is not defined"
     ]
    }
   ],
   "source": [
    "# # Оцінка точності Логістичної моделі \n",
    "# accuracy = accuracy_score(y_test, y_pred_lr)\n",
    "# recall = recall_score(y_test, y_pred_lr)\n",
    "# f1 = f1_score(y_test, y_pred_lr)\n",
    "# roc_auc = roc_auc_score(y_test, lr_model.predict_proba(X_test)[:,1])\n",
    "# conf_matrix = confusion_matrix(y, y_pred_lr)\n",
    "\n",
    "# print(\"---Для Логістичної регресії---\")\n",
    "# print(\"Точність: {:.2f}\".format(accuracy))\n",
    "# print(\"Відгук: {:.2f}\".format(recall))\n",
    "# print(\"F1-середнє: {:.2f}\".format(f1))\n",
    "# print(\"AUC-ROC: {:.2f}\".format(roc_auc))\n",
    "# print(\"Матриця плутанини:\")\n",
    "# print(conf_matrix)\n",
    "\n",
    "\n",
    "# # Оцінка точності моделі Дерева рішень\n",
    "# accuracy_dt = accuracy_score(y_test, y_pred_dt)\n",
    "# recall_dt = recall_score(y_test, y_pred_dt)\n",
    "# f1_dt = f1_score(y_test, y_pred_dt)\n",
    "# # roc_auc_dt = roc_auc_score(y_test, dt_model.predict_proba(X_test)[:,1])\n",
    "# conf_matrix_dt = confusion_matrix(y_test, y_pred_dt)\n",
    "\n",
    "# print(\"\\n\\n---Для моделі Дерева рішень---\")\n",
    "# print(\"Точність: {:.2f}\".format(accuracy_dt))\n",
    "# print(\"Відгук: {:.2f}\".format(recall_dt))\n",
    "# print(\"F1-середнє: {:.2f}\".format(f1_dt))\n",
    "# # print(\"AUC-ROC: {:.2f}\".format(roc_auc_dt))\n",
    "# print(\"Матриця плутанини:\")\n",
    "# print(conf_matrix_dt)"
   ]
  },
  {
   "cell_type": "markdown",
   "metadata": {},
   "source": [
    "### Візуалізація"
   ]
  },
  {
   "cell_type": "markdown",
   "metadata": {},
   "source": [
    "Далі використовую модель Логістичної регресії (має кращі показники)"
   ]
  },
  {
   "cell_type": "markdown",
   "metadata": {},
   "source": [
    "Гістограма"
   ]
  },
  {
   "cell_type": "code",
   "execution_count": null,
   "metadata": {},
   "outputs": [
    {
     "data": {
      "image/png": "[encoded data removed]",
      "text/plain": [
       "<Figure size 800x600 with 1 Axes>"
      ]
     },
     "metadata": {},
     "output_type": "display_data"
    }
   ],
   "source": [
    "# Візуалізація розподілу цільової змінної (target)\n",
    "plt.figure(figsize=(8, 6))\n",
    "sns.histplot(data['Target'], kde=True)\n",
    "plt.xlabel('Цільова змінна')\n",
    "plt.ylabel('Частота')\n",
    "plt.title('Розподіл цільової змінної')\n",
    "plt.show()"
   ]
  },
  {
   "cell_type": "markdown",
   "metadata": {},
   "source": [
    "Матриця кореляції"
   ]
  },
  {
   "cell_type": "code",
   "execution_count": null,
   "metadata": {},
   "outputs": [
    {
     "data": {
      "image/png": "[encoded data removed]",
      "text/plain": [
       "<Figure size 1000x800 with 2 Axes>"
      ]
     },
     "metadata": {},
     "output_type": "display_data"
    }
   ],
   "source": [
    "# Матриця кореляції\n",
    "correlation_matrix = data.corr()\n",
    "\n",
    "# Візуалізація матриці кореляції за допомогою теплової карти\n",
    "plt.figure(figsize=(10, 8))\n",
    "sns.heatmap(correlation_matrix, annot=True, cmap='coolwarm')\n",
    "plt.title('Матриця кореляції')\n",
    "plt.show()"
   ]
  },
  {
   "cell_type": "code",
   "execution_count": null,
   "metadata": {},
   "outputs": [
    {
     "ename": "NameError",
     "evalue": "name 'y_test' is not defined",
     "output_type": "error",
     "traceback": [
      "\u001b[1;31m---------------------------------------------------------------------------\u001b[0m",
      "\u001b[1;31mNameError\u001b[0m                                 Traceback (most recent call last)",
      "\u001b[1;32md:\\Lessons\\3rd Year, 1st course\\Intelligent data analysis\\My main local repo (for labs, practicies)\\ml2023\\Practices\\Practice4\\practice4.ipynb Cell 26\u001b[0m line \u001b[0;36m5\n\u001b[0;32m      <a href='vscode-notebook-cell:/d%3A/Lessons/3rd%20Year%2C%201st%20course/Intelligent%20data%20analysis/My%20main%20local%20repo%20%28for%20labs%2C%20practicies%29/ml2023/Practices/Practice4/practice4.ipynb#X35sZmlsZQ%3D%3D?line=2'>3</a>\u001b[0m plt\u001b[39m.\u001b[39mfigure(figsize\u001b[39m=\u001b[39m(\u001b[39m20\u001b[39m, \u001b[39m5\u001b[39m))\n\u001b[0;32m      <a href='vscode-notebook-cell:/d%3A/Lessons/3rd%20Year%2C%201st%20course/Intelligent%20data%20analysis/My%20main%20local%20repo%20%28for%20labs%2C%20practicies%29/ml2023/Practices/Practice4/practice4.ipynb#X35sZmlsZQ%3D%3D?line=3'>4</a>\u001b[0m plt\u001b[39m.\u001b[39msubplot(\u001b[39m131\u001b[39m)\n\u001b[1;32m----> <a href='vscode-notebook-cell:/d%3A/Lessons/3rd%20Year%2C%201st%20course/Intelligent%20data%20analysis/My%20main%20local%20repo%20%28for%20labs%2C%20practicies%29/ml2023/Practices/Practice4/practice4.ipynb#X35sZmlsZQ%3D%3D?line=4'>5</a>\u001b[0m plt\u001b[39m.\u001b[39mscatter(y_test, y_pred_lr, color\u001b[39m=\u001b[39m\u001b[39m'\u001b[39m\u001b[39mblue\u001b[39m\u001b[39m'\u001b[39m)\n\u001b[0;32m      <a href='vscode-notebook-cell:/d%3A/Lessons/3rd%20Year%2C%201st%20course/Intelligent%20data%20analysis/My%20main%20local%20repo%20%28for%20labs%2C%20practicies%29/ml2023/Practices/Practice4/practice4.ipynb#X35sZmlsZQ%3D%3D?line=5'>6</a>\u001b[0m plt\u001b[39m.\u001b[39mplot([\u001b[39mmin\u001b[39m(y_test), \u001b[39mmax\u001b[39m(y_test)], [\u001b[39mmin\u001b[39m(y_pred_lr), \u001b[39mmax\u001b[39m(y_pred_lr)], linestyle\u001b[39m=\u001b[39m\u001b[39m'\u001b[39m\u001b[39m--\u001b[39m\u001b[39m'\u001b[39m, color\u001b[39m=\u001b[39m\u001b[39m'\u001b[39m\u001b[39mred\u001b[39m\u001b[39m'\u001b[39m)\n\u001b[0;32m      <a href='vscode-notebook-cell:/d%3A/Lessons/3rd%20Year%2C%201st%20course/Intelligent%20data%20analysis/My%20main%20local%20repo%20%28for%20labs%2C%20practicies%29/ml2023/Practices/Practice4/practice4.ipynb#X35sZmlsZQ%3D%3D?line=6'>7</a>\u001b[0m plt\u001b[39m.\u001b[39mxlabel(\u001b[39m\"\u001b[39m\u001b[39mСправжні значення\u001b[39m\u001b[39m\"\u001b[39m)\n",
      "\u001b[1;31mNameError\u001b[0m: name 'y_test' is not defined"
     ]
    },
    {
     "data": {
      "image/png": "[encoded data removed]",
      "text/plain": [
       "<Figure size 2000x500 with 1 Axes>"
      ]
     },
     "metadata": {},
     "output_type": "display_data"
    }
   ],
   "source": [
    "# Побудуємо діаграму розсіювання\n",
    "# Візуалізація результатів\n",
    "plt.figure(figsize=(20, 5))\n",
    "plt.subplot(131)\n",
    "plt.scatter(y_test, y_pred_lr, color='blue')\n",
    "plt.plot([min(y_test), max(y_test)], [min(y_pred_lr), max(y_pred_lr)], linestyle='--', color='red')\n",
    "plt.xlabel(\"Справжні значення\")\n",
    "plt.ylabel(\"Прогнозовані значення\")\n",
    "plt.title(\"Графік логістичної регресії\")"
   ]
  }
 ],
 "metadata": {
  "kernelspec": {
   "display_name": "myenv",
   "language": "python",
   "name": "python3"
  },
  "language_info": {
   "codemirror_mode": {
    "name": "ipython",
    "version": 3
   },
   "file_extension": ".py",
   "mimetype": "text/x-python",
   "name": "python",
   "nbconvert_exporter": "python",
   "pygments_lexer": "ipython3",
   "version": "3.8.18"
  }
 },
 "nbformat": 4,
 "nbformat_minor": 2
}
