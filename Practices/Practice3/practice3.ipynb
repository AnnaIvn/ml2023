{
 "cells": [
  {
   "cell_type": "markdown",
   "metadata": {},
   "source": [
    "## Practice 3"
   ]
  },
  {
   "cell_type": "markdown",
   "metadata": {},
   "source": [
    "### Крок 1: Генерація даних\n",
    "(Згенеруйте 1000 спостережень для ознаки \"Площа житла\" (площа квартири в квадратних метрах) в діапазоні від 50 до 200 квадратних метрів.\n",
    "\n",
    "Згенеруйте 1000 спостережень для ознаки \"Кількість спалень\" в діапазоні від 1 до 5 спалень.\n",
    "\n",
    "Згенеруйте 1000 спостережень для ознаки \"Відстань до центру міста\" в діапазоні від 1 до 20 км.\n",
    "\n",
    "Згенеруйте цільову змінну - ціну житла (в тисячах доларів) на основі ознак \"Площа житла\", \"Кількість спалень\" та \"Відстань до центру міста\". Модель ціни може бути, наприклад, такою: ціна = 10 * площа + 5 * спальні - 2 * відстань + похибка, де похибка - це випадковий шум.)"
   ]
  },
  {
   "cell_type": "code",
   "execution_count": 10,
   "metadata": {},
   "outputs": [],
   "source": [
    "import pandas as pd\n",
    "import numpy as np\n",
    "\n",
    "# Генерація даних\n",
    "np.random.seed(0)\n",
    "amount = 1000          # к-сть рядків\n",
    "\n",
    "area = np.random.randint(50, 200, size=amount)\n",
    "rooms = np.random.randint(1, 5, size=amount)\n",
    "distance = np.random.randint(1, 20, size=amount)\n",
    "prices = [10 * a + 5 * b - 2 * d + np.random.randint(0, 20) for a, b, d in zip(area, rooms, distance)]\n",
    "\n",
    "\n",
    "# Створимо DataFrame зі згенерованими даними\n",
    "data = {\n",
    "    'Площа житла (м^2)': area,\n",
    "    'Кількість спалень': rooms,\n",
    "    'Відстань до центру міста (км)': distance,\n",
    "    'Ціна житла (1000$)': prices\n",
    "}\n",
    "\n",
    "# Занесення даних в таблицю\n",
    "df = pd.DataFrame(data)      \n",
    "\n",
    "# Збережемо DataFrame у CSV файл\n",
    "df.to_csv('дані_нерухомості.csv', index=False)"
   ]
  }
 ],
 "metadata": {
  "kernelspec": {
   "display_name": "myenv",
   "language": "python",
   "name": "python3"
  },
  "language_info": {
   "codemirror_mode": {
    "name": "ipython",
    "version": 3
   },
   "file_extension": ".py",
   "mimetype": "text/x-python",
   "name": "python",
   "nbconvert_exporter": "python",
   "pygments_lexer": "ipython3",
   "version": "3.8.18"
  },
  "orig_nbformat": 4
 },
 "nbformat": 4,
 "nbformat_minor": 2
}
