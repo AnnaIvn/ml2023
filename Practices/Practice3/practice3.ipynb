{
 "cells": [
  {
   "cell_type": "markdown",
   "metadata": {},
   "source": [
    "## Practice 3"
   ]
  },
  {
   "cell_type": "markdown",
   "metadata": {},
   "source": [
    "### Крок 1: Генерація даних\n",
    "(Згенеруйте 1000 спостережень для ознаки \"Площа житла\" (площа квартири в квадратних метрах) в діапазоні від 50 до 200 квадратних метрів.\n",
    "\n",
    "Згенеруйте 1000 спостережень для ознаки \"Кількість спалень\" в діапазоні від 1 до 5 спалень.\n",
    "\n",
    "Згенеруйте 1000 спостережень для ознаки \"Відстань до центру міста\" в діапазоні від 1 до 20 км.\n",
    "\n",
    "Згенеруйте цільову змінну - ціну житла (в тисячах доларів) на основі ознак \"Площа житла\", \"Кількість спалень\" та \"Відстань до центру міста\". Модель ціни може бути, наприклад, такою: ціна = 10 * площа + 5 * спальні - 2 * відстань + похибка, де похибка - це випадковий шум.)"
   ]
  },
  {
   "cell_type": "code",
   "execution_count": 100,
   "metadata": {},
   "outputs": [],
   "source": [
    "import pandas as pd\n",
    "import numpy as np\n",
    "\n",
    "# Генерація даних\n",
    "np.random.seed(0)\n",
    "amount = 1000          # к-сть рядків\n",
    "\n",
    "area = np.random.randint(50, 200, size=amount)\n",
    "rooms = np.random.randint(1, 5, size=amount)\n",
    "distance = np.random.randint(1, 20, size=amount)\n",
    "prices = [10 * a + 5 * b - 2 * d + np.random.randint(0, 40) for a, b, d in zip(area, rooms, distance)]\n",
    "\n",
    "\n",
    "# Створимо DataFrame зі згенерованими даними\n",
    "data = {\n",
    "    'Площа житла (м^2)': area,\n",
    "    'К-сть спалень': rooms,\n",
    "    'Відстань до центру (км)': distance,\n",
    "    'Ціна житла (1000$)': prices\n",
    "}\n",
    "\n",
    "# Занесення даних в таблицю\n",
    "df = pd.DataFrame(data)      \n",
    "\n",
    "# Збережемо DataFrame у CSV файл\n",
    "df.to_csv('дані_нерухомості.csv', index=False)"
   ]
  },
  {
   "cell_type": "markdown",
   "metadata": {},
   "source": [
    "### Крок 2: Розділення даних\n",
    "\n",
    "Розділіть ваші дані на навчальний та тестовий набори в співвідношенні 80% - 20%."
   ]
  },
  {
   "cell_type": "code",
   "execution_count": 101,
   "metadata": {},
   "outputs": [
    {
     "name": "stdout",
     "output_type": "stream",
     "text": [
      "---Перегляд перших декількох рядків даних---\n",
      "   Площа житла (м^2)  К-сть спалень  Відстань до центру (км)  \\\n",
      "0                 97              4                        2   \n",
      "1                167              1                       13   \n",
      "2                117              1                       10   \n",
      "3                153              2                       12   \n",
      "4                 59              1                        4   \n",
      "\n",
      "   Ціна житла (1000$)  \n",
      "0                1004  \n",
      "1                1684  \n",
      "2                1176  \n",
      "3                1544  \n",
      "4                 620   \n",
      "\n",
      "---Вивід інформації про дані: к-сті рядків, стовпців, типу даних---\n",
      "<class 'pandas.core.frame.DataFrame'>\n",
      "RangeIndex: 1000 entries, 0 to 999\n",
      "Data columns (total 4 columns):\n",
      " #   Column                   Non-Null Count  Dtype\n",
      "---  ------                   --------------  -----\n",
      " 0   Площа житла (м^2)        1000 non-null   int64\n",
      " 1   К-сть спалень            1000 non-null   int64\n",
      " 2   Відстань до центру (км)  1000 non-null   int64\n",
      " 3   Ціна житла (1000$)       1000 non-null   int64\n",
      "dtypes: int64(4)\n",
      "memory usage: 31.4 KB\n",
      "None \n",
      "\n",
      "---Основні статистичні показники даних---\n",
      "       Площа житла (м^2)  К-сть спалень  Відстань до центру (км)  \\\n",
      "count        1000.000000    1000.000000              1000.000000   \n",
      "mean          127.241000       2.506000                10.210000   \n",
      "std            43.189423       1.131036                 5.335388   \n",
      "min            50.000000       1.000000                 1.000000   \n",
      "25%            89.000000       1.000000                 6.000000   \n",
      "50%           131.000000       2.500000                10.000000   \n",
      "75%           165.000000       4.000000                15.000000   \n",
      "max           199.000000       4.000000                19.000000   \n",
      "\n",
      "       Ціна житла (1000$)  \n",
      "count          1000.00000  \n",
      "mean           1283.90900  \n",
      "std             431.41831  \n",
      "min             489.00000  \n",
      "25%             899.00000  \n",
      "50%            1327.00000  \n",
      "75%            1660.00000  \n",
      "max            2026.00000   \n",
      "\n"
     ]
    }
   ],
   "source": [
    "# Завантаження даних\n",
    "data = pd.read_csv('дані_нерухомості.csv')\n",
    "\n",
    "# Перегляд перших декількох рядків даних\n",
    "print(\"---Перегляд перших декількох рядків даних---\")\n",
    "print(data.head(), \"\\n\")\n",
    "\n",
    "# Вивести інформацію про дані, такі як кількість рядків, стовпців і типи даних\n",
    "print(\"---Вивід інформації про дані: к-сті рядків, стовпців, типу даних---\")\n",
    "print(data.info(), \"\\n\")\n",
    "\n",
    "# Вивести основні статистичні показники даних\n",
    "print(\"---Основні статистичні показники даних---\")\n",
    "print(data.describe(), \"\\n\")"
   ]
  },
  {
   "cell_type": "code",
   "execution_count": 102,
   "metadata": {},
   "outputs": [],
   "source": [
    "# # Завантаження даних\n",
    "# data = pd.read_csv('дані_нерухомості.csv')\n",
    "\n",
    "# Вибір функцій (ознак) для аналізу та цільової змінної\n",
    "X = data[['Площа житла (м^2)', 'К-сть спалень', 'Відстань до центру (км)']]\n",
    "y = data['Ціна житла (1000$)']\n",
    "\n",
    "# Розділення даних на тренувальний і тестовий набори\n",
    "from sklearn.model_selection import train_test_split\n",
    "X_train, X_test, y_train, y_test = train_test_split(X, y, test_size=0.2, random_state=42)"
   ]
  },
  {
   "cell_type": "markdown",
   "metadata": {},
   "source": [
    "### Крок 3: Побудова моделі регресії\n",
    "\n",
    "Використовуйте бібліотеку Python (наприклад, Scikit-Learn) для побудови моделі лінійної регресії.\n",
    "\n",
    "Навчіть модель на навчальних даних, використовуючи ознаки \"Площа житла\", \"Кількість спалень\" та \"Відстань до центру міста\" для прогнозу ціни житла."
   ]
  },
  {
   "cell_type": "code",
   "execution_count": 103,
   "metadata": {},
   "outputs": [],
   "source": [
    "# Лінійна регресія\n",
    "from sklearn.linear_model import LinearRegression\n",
    "\n",
    "# Побудова та навчання моделі лінійної регресії\n",
    "linear_reg_model = LinearRegression()\n",
    "linear_reg_model.fit(X_train, y_train)\n",
    "\n",
    "# Прогноз на тестовому наборі\n",
    "y_pred = linear_reg_model.predict(X_test)"
   ]
  },
  {
   "cell_type": "markdown",
   "metadata": {},
   "source": [
    "### Крок 4: Оцінка моделі\n",
    "Використайте модель для зроблення прогнозів на тестовому наборі. (вже зробила вище)\n",
    "\n",
    "Оцініть якість моделі за допомогою метрик, таких як середньоквадратична помилка (MSE) та коефіцієнт детермінації (R^2)."
   ]
  },
  {
   "cell_type": "code",
   "execution_count": 104,
   "metadata": {},
   "outputs": [
    {
     "name": "stdout",
     "output_type": "stream",
     "text": [
      "Для Лінійної рогресії: \n",
      "\n",
      "MSE: 145.47\n",
      "R-squared: 1.00\n"
     ]
    }
   ],
   "source": [
    "# Оцінка моделі за доп. метрик: середньо-квадратична помилка(Mean Squared Error), \n",
    "# коефіцієнт детермінації(R-squared)\n",
    "from sklearn.metrics import mean_squared_error, r2_score, accuracy_score, confusion_matrix\n",
    "\n",
    "print(\"Для Лінійної рогресії: \\n\")\n",
    "# Оцінка моделі\n",
    "mse = mean_squared_error(y_test, y_pred)\n",
    "print(f\"MSE: {mse:.2f}\")\n",
    "\n",
    "r2 = r2_score(y_test, y_pred)                                          # Обчислення R-squared\n",
    "print(f'R-squared: {r2:.2f}')  "
   ]
  },
  {
   "cell_type": "markdown",
   "metadata": {},
   "source": [
    "### Крок 5: Візуалізація результатів\n",
    "\n",
    "Побудуйте графік, на якому відобразіть реальні ціни житла та прогнозовані моделлю ціни для тестового набору.\n",
    "\n",
    "Додайте лінію, яка відображає ідеальні результати (реальні ціни житла) для порівняння."
   ]
  },
  {
   "cell_type": "code",
   "execution_count": 105,
   "metadata": {},
   "outputs": [
    {
     "data": {
      "text/plain": [
       "Text(0.5, 1.0, 'Лінійна регресія')"
      ]
     },
     "execution_count": 105,
     "metadata": {},
     "output_type": "execute_result"
    },
    {
     "data": {
      "image/png": "[encoded data removed]",
      "text/plain": [
       "<Figure size 2000x500 with 1 Axes>"
      ]
     },
     "metadata": {},
     "output_type": "display_data"
    }
   ],
   "source": [
    "import matplotlib.pyplot as plt\n",
    "\n",
    "# Візуалізація результатів для лінійної регресії\n",
    "plt.figure(figsize=(20, 5))\n",
    "plt.subplot(131)\n",
    "plt.scatter(y_test, y_pred, color='blue')\n",
    "plt.plot([min(y_test), max(y_test)], [min(y_pred), max(y_pred)], linestyle='--', color='red')\n",
    "plt.xlabel(\"Справжні значення\")\n",
    "plt.ylabel(\"Прогнозовані значення\")\n",
    "plt.title(\"Лінійна регресія\")"
   ]
  },
  {
   "cell_type": "markdown",
   "metadata": {},
   "source": [
    "### Крок 6: Висновки\n",
    "\n",
    "Напишіть короткий звіт, де ви розповідаєте про якість моделі та її здатність прогнозувати ціну житла на основі введених ознак."
   ]
  },
  {
   "cell_type": "markdown",
   "metadata": {},
   "source": [
    "На етапі 4 - оцінка моделі ми вирахували середньо-квадратичну помилку(Mean Squared Error), \n",
    "та коефіцієнт детермінації(R-squared). Як бачимо, по виводу, MSE дуже мале, а R-squared = 1.\n",
    "\n",
    "Також, по графіку, видно, що всі значення лежать приблизно на головній осі.\n",
    "\n",
    "Тому, можна сказати, що модель якісна, і здатна достатньо точно прогнозувати ціну житла на основі введених ознак\n",
    "\n",
    "Але, при збільшенні значень шуму (ще на етапі генерації даних), отчінсь моделі знизується."
   ]
  }
 ],
 "metadata": {
  "kernelspec": {
   "display_name": "myenv",
   "language": "python",
   "name": "python3"
  },
  "language_info": {
   "codemirror_mode": {
    "name": "ipython",
    "version": 3
   },
   "file_extension": ".py",
   "mimetype": "text/x-python",
   "name": "python",
   "nbconvert_exporter": "python",
   "pygments_lexer": "ipython3",
   "version": "3.8.18"
  },
  "orig_nbformat": 4
 },
 "nbformat": 4,
 "nbformat_minor": 2
}
