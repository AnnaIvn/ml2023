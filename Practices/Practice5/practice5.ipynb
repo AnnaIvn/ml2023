{
 "cells": [
  {
   "cell_type": "markdown",
   "metadata": {},
   "source": [
    "# Практична №5. Основи TensorFlow та Deep Learning"
   ]
  },
  {
   "cell_type": "markdown",
   "metadata": {},
   "source": [
    "## 1. Встановлення Tensorflow\n",
    "\n",
    "Є"
   ]
  },
  {
   "cell_type": "markdown",
   "metadata": {},
   "source": [
    "## 2. Ознайомлення з Tensorflow\n",
    "Вивчіть основні концепції TensorFlow, такі як тензори, операції та графи обчислень.\n",
    "Створіть тензори різних типів та виконайте над ними операції."
   ]
  },
  {
   "cell_type": "code",
   "execution_count": 123,
   "metadata": {},
   "outputs": [],
   "source": [
    "import tensorflow as tf\n",
    "\n",
    "import numpy as np\n",
    "import pandas as pd \n",
    "import seaborn as sns\n",
    "import matplotlib.pyplot as plt\n",
    "\n",
    "from sklearn.datasets import make_regression\n",
    "\n",
    "from sklearn.model_selection import train_test_split"
   ]
  },
  {
   "cell_type": "markdown",
   "metadata": {},
   "source": [
    "<span style=\"color:lightgreen\">__Тензори__</span> - це базові об'єкти даних в TensorFlow. Вони подібні до масивів чи матриць, але можуть мати будь-яку кількість вимірів. Тензори можуть бути константами або змінними."
   ]
  },
  {
   "cell_type": "code",
   "execution_count": 124,
   "metadata": {},
   "outputs": [],
   "source": [
    "# Створення константного тензора\n",
    "tensor_constant = tf.constant([1, 2, 3])\n",
    "\n",
    "# Створення змінного тензора\n",
    "tensor_variable = tf.Variable([1, 2, 3])"
   ]
  },
  {
   "cell_type": "code",
   "execution_count": 125,
   "metadata": {},
   "outputs": [
    {
     "name": "stdout",
     "output_type": "stream",
     "text": [
      "tf.Tensor([1. 3. 5. 7. 9.], shape=(5,), dtype=float64)\n"
     ]
    }
   ],
   "source": [
    "# Matrix 1 by 1 with data float32 type\n",
    "x = tf.constant(4, shape=(1,1), dtype=tf.float32)\n",
    "# Matrix 3 by 3\n",
    "x = tf.constant([[1,2,3], [4,5,6], [7,8,9]])\n",
    "# Matrix of ones 3 by 3\n",
    "x = tf.ones((3,3))\n",
    "# Matrix of zeroes 2 by 2\n",
    "x = tf.zeros((2,2))\n",
    "# Matrix of eye, main diagonal has ones, and other fields have zeroes\n",
    "x = tf.eye(3)\n",
    "# Random values\n",
    "x = tf.random.normal((3,3), mean=0, stddev=1)\n",
    "x = tf.random.uniform((3,3), minval=0, maxval=10)\n",
    "x = tf.range(9)\n",
    "x = tf.range(start=1, limit=10, delta=2)\n",
    "# To convert between different types \n",
    "x = tf.cast(x, dtype=tf.float64)\n",
    "print(x)"
   ]
  },
  {
   "cell_type": "markdown",
   "metadata": {},
   "source": [
    "<span style=\"color:lightgreen\">__Операції__</span> в TensorFlow представляють собою дії, які ви виконуєте над тензорами"
   ]
  },
  {
   "cell_type": "code",
   "execution_count": 126,
   "metadata": {},
   "outputs": [
    {
     "name": "stdout",
     "output_type": "stream",
     "text": [
      "tf.Tensor(\n",
      "[[ 6  8]\n",
      " [10 12]], shape=(2, 2), dtype=int32) \n",
      "\n",
      "tf.Tensor(\n",
      "[[-4 -4]\n",
      " [-4 -4]], shape=(2, 2), dtype=int32) \n",
      "\n",
      "tf.Tensor(\n",
      "[[0.2        0.33333333]\n",
      " [0.42857143 0.5       ]], shape=(2, 2), dtype=float64) \n",
      "\n",
      "tf.Tensor(\n",
      "[[ 5 12]\n",
      " [21 32]], shape=(2, 2), dtype=int32) \n",
      "\n",
      "tf.Tensor([26 44], shape=(2,), dtype=int32) \n",
      "\n",
      "tf.Tensor(\n",
      "[[   1   32]\n",
      " [ 243 1024]], shape=(2, 2), dtype=int32) \n",
      "\n"
     ]
    }
   ],
   "source": [
    "# Приклад операції матричного множення\n",
    "x = tf.constant([[1, 2], [3, 4]])\n",
    "y = tf.constant([[5, 6], [7, 8]])\n",
    "\n",
    "# Summ\n",
    "sum = tf.add(x, y)\n",
    "# or sum = x + y\n",
    "print(sum,'\\n')\n",
    "\n",
    "# Subtract\n",
    "sub = tf.subtract(x, y)\n",
    "print(sub,'\\n')\n",
    "\n",
    "# Division\n",
    "divv = tf.divide(x, y)\n",
    "# or divv = x / y\n",
    "print(divv,'\\n')\n",
    "\n",
    "# Multiply\n",
    "mul = tf.multiply(x, y)\n",
    "# or mul = x * y\n",
    "print(mul, '\\n')\n",
    "\n",
    "# Tensordot: Multiply and then add all numbers\n",
    "dot = tf.tensordot(x, y, axes=1)\n",
    "dot = tf.reduce_sum(x*y, axis=0)\n",
    "print(dot, '\\n')\n",
    "\n",
    "z = x**5\n",
    "print(z, '\\n')"
   ]
  },
  {
   "cell_type": "code",
   "execution_count": 127,
   "metadata": {},
   "outputs": [
    {
     "name": "stdout",
     "output_type": "stream",
     "text": [
      "tf.Tensor(\n",
      "[[-1.2985559e-03 -9.8288655e-01 -9.1419733e-01]\n",
      " [-7.2255838e-01 -1.2175164e+00 -1.3325899e+00]], shape=(2, 3), dtype=float32) \n",
      "\n",
      "tf.Tensor(\n",
      "[[ 0.516274   -0.0375652  -0.6208636   0.417308  ]\n",
      " [ 0.40779498  0.80499023 -0.4349617  -2.6940448 ]\n",
      " [-0.20866764 -0.8336522   0.47482488 -0.88722664]], shape=(3, 4), dtype=float32) \n",
      "\n",
      "tf.Tensor(\n",
      "[[-0.2107232  -0.02904266 -0.00575942  3.4584987 ]\n",
      " [-0.59146684  0.15797073  0.34543645  4.160824  ]], shape=(2, 4), dtype=float32)\n"
     ]
    }
   ],
   "source": [
    "# Multiplying matrixes\n",
    "x = tf.random.normal((2, 3))\n",
    "y = tf.random.normal((3, 4))\n",
    "print(x, '\\n')\n",
    "print(y, '\\n')\n",
    "\n",
    "z = tf.matmul(x, y)\n",
    "# or z = x @ y\n",
    "print(z)"
   ]
  },
  {
   "cell_type": "markdown",
   "metadata": {},
   "source": [
    "<span style=\"color:lightgreen\">__Графи обчислень.__</span> У TensorFlow обчислення представлені у вигляді графів, де вузли представляють операції, а ребра - тензори, які передають дані між цими операціями. Граф обчислень описує всю послідовність операцій, які потрібно виконати."
   ]
  },
  {
   "cell_type": "markdown",
   "metadata": {},
   "source": [
    "## 3. Побудова моделі для <span style=\"color:lightgreen\">регресії</span>:\n",
    "Використайте згенерований у лабораторній роботі 2 набір даних для задачі регресії, включаючи ознаки та відповідні значення цільової змінної.\n",
    "Створіть та скомпілюйте модель нейронної мережі для регресії з використанням TensorFlow.\n",
    "Виберіть функцію втрати та оптимізатор для моделі та навчіть її на підготовленому наборі даних.\n",
    "Оцініть результати навчання та відобразіть їх графічно.\n",
    "Порівняйте з результатами, отриманими у лабораторній роботі 2."
   ]
  },
  {
   "cell_type": "code",
   "execution_count": 128,
   "metadata": {},
   "outputs": [],
   "source": [
    "# Генеруємо набір даних для регресії\n",
    "X, y = make_regression(n_samples=1000,    # Кількість екземплярів\n",
    "                       n_features=5,      # Кількість параметрів\n",
    "                       n_informative=3,   # Визначає кількість інформативних параметрів в наборі даних\n",
    "                       noise=17,         # Рівень шуму\n",
    "                       random_state=42)\n",
    "\n",
    "df = pd.DataFrame(data=X, columns=[f'Feature_{i+1}' for i in range(5)])\n",
    "df['Target'] = y\n",
    "\n",
    "# Зберігаємо набір даних у CSV-файл\n",
    "df.to_csv('data_for_part1.csv', index=False)"
   ]
  },
  {
   "cell_type": "code",
   "execution_count": 129,
   "metadata": {},
   "outputs": [
    {
     "name": "stdout",
     "output_type": "stream",
     "text": [
      "---Перегляд перших декількох рядків даних---\n",
      "   Feature_1  Feature_2  Feature_3  Feature_4  Feature_5     Target\n",
      "0  -0.735201   1.798725  -1.095519   1.656208  -0.880754  77.812223\n",
      "1  -1.613561  -1.371901  -0.172946   1.471170   1.711708 -23.236355\n",
      "2   0.651391   0.954002   0.570891  -0.315269   1.135566  60.810932\n",
      "3  -1.350556  -0.687014  -0.475795  -0.075871  -0.826112 -53.744184\n",
      "4   1.554160   0.342338  -0.530971   0.853976  -0.335138  -0.138741 \n",
      "\n",
      "---Вивід інформації про дані: к-сті рядків, стовпців, типу даних---\n",
      "<class 'pandas.core.frame.DataFrame'>\n",
      "RangeIndex: 1000 entries, 0 to 999\n",
      "Data columns (total 6 columns):\n",
      " #   Column     Non-Null Count  Dtype  \n",
      "---  ------     --------------  -----  \n",
      " 0   Feature_1  1000 non-null   float64\n",
      " 1   Feature_2  1000 non-null   float64\n",
      " 2   Feature_3  1000 non-null   float64\n",
      " 3   Feature_4  1000 non-null   float64\n",
      " 4   Feature_5  1000 non-null   float64\n",
      " 5   Target     1000 non-null   float64\n",
      "dtypes: float64(6)\n",
      "memory usage: 47.0 KB\n",
      "None \n",
      "\n",
      "---Основні статистичні показники даних---\n",
      "         Feature_1    Feature_2    Feature_3    Feature_4    Feature_5  \\\n",
      "count  1000.000000  1000.000000  1000.000000  1000.000000  1000.000000   \n",
      "mean      0.006531     0.004543     0.001297     0.032846    -0.017207   \n",
      "std       0.959842     1.005321     0.999219     0.988835     1.029248   \n",
      "min      -3.007632    -3.241267    -3.170426    -3.176704    -2.940389   \n",
      "25%      -0.649871    -0.693862    -0.645736    -0.607606    -0.711821   \n",
      "50%       0.064768     0.022395     0.027885    -0.006855    -0.034162   \n",
      "75%       0.679256     0.642029     0.649413     0.690789     0.663808   \n",
      "max       3.078881     3.152057     3.926238     3.852731     3.243093   \n",
      "\n",
      "            Target  \n",
      "count  1000.000000  \n",
      "mean     -1.242002  \n",
      "std      55.945829  \n",
      "min    -169.821879  \n",
      "25%     -39.379058  \n",
      "50%       0.531148  \n",
      "75%      38.732052  \n",
      "max     198.152160   \n",
      "\n"
     ]
    }
   ],
   "source": [
    "# Завантаження даних\n",
    "data = pd.read_csv('data_for_part1.csv')\n",
    "\n",
    "# Перегляд перших декількох рядків даних\n",
    "print(\"---Перегляд перших декількох рядків даних---\")\n",
    "print(data.head(), \"\\n\")\n",
    "\n",
    "# Вивести інформацію про дані, такі як кількість рядків, стовпців і типи даних\n",
    "print(\"---Вивід інформації про дані: к-сті рядків, стовпців, типу даних---\")\n",
    "print(data.info(), \"\\n\")\n",
    "\n",
    "# Вивести основні статистичні показники даних\n",
    "print(\"---Основні статистичні показники даних---\")\n",
    "print(data.describe(), \"\\n\")"
   ]
  },
  {
   "cell_type": "code",
   "execution_count": 130,
   "metadata": {},
   "outputs": [
    {
     "name": "stdout",
     "output_type": "stream",
     "text": [
      "Model: \"sequential_6\"\n",
      "_________________________________________________________________\n",
      " Layer (type)                Output Shape              Param #   \n",
      "=================================================================\n",
      " dense_6 (Dense)             (None, 1)                 6         \n",
      "                                                                 \n",
      "=================================================================\n",
      "Total params: 6 (24.00 Byte)\n",
      "Trainable params: 6 (24.00 Byte)\n",
      "Non-trainable params: 0 (0.00 Byte)\n",
      "_________________________________________________________________\n"
     ]
    }
   ],
   "source": [
    "X_train, X_test, y_train, y_test = train_test_split(X, y, test_size=0.2, random_state=42)\n",
    "\n",
    "# Sequential API allows only one input to one output. Very convenient, not very flexible \n",
    "# Визначимо модель\n",
    "model = tf.keras.Sequential([\n",
    "    tf.keras.layers.Dense(units=1, input_shape=(5,), activation='linear')\n",
    "])\n",
    "\n",
    "# Компілюємо модель, тут обираємо функцію втрати\n",
    "model.compile(optimizer='sgd', loss='mean_squared_error', metrics=['mse'])\n",
    "\n",
    "# Виведемо інформацію про модель\n",
    "model.summary()"
   ]
  },
  {
   "cell_type": "code",
   "execution_count": 131,
   "metadata": {},
   "outputs": [],
   "source": [
    "# Навчимо модель\n",
    "history = model.fit(X_train, y_train, epochs=100, validation_data=(X_test, y_test), verbose=0)"
   ]
  },
  {
   "cell_type": "code",
   "execution_count": 132,
   "metadata": {},
   "outputs": [
    {
     "name": "stdout",
     "output_type": "stream",
     "text": [
      "Training Loss: 316.40411376953125, Training MSE: 316.40411376953125\n",
      "Test Loss: 277.9683532714844, Test MSE: 277.9683532714844\n"
     ]
    },
    {
     "data": {
      "image/png": "[encoded data removed]",
      "text/plain": [
       "<Figure size 640x480 with 1 Axes>"
      ]
     },
     "metadata": {},
     "output_type": "display_data"
    }
   ],
   "source": [
    "# Оцінимо результати навчання\n",
    "train_loss = model.evaluate(X_train, y_train, verbose=0)\n",
    "test_loss = model.evaluate(X_test, y_test, verbose=0)\n",
    "\n",
    "print(f'Training Loss: {train_loss[0]}, Training MSE: {train_loss[1]}')\n",
    "print(f'Test Loss: {test_loss[0]}, Test MSE: {test_loss[1]}')\n",
    "\n",
    "# Візуалізуємо результати навчання\n",
    "plt.plot(history.history['loss'], label='Training Loss')\n",
    "plt.plot(history.history['val_loss'], label='Validation Loss')\n",
    "plt.title('Model Loss')\n",
    "plt.xlabel('Epoch')\n",
    "plt.ylabel('Loss')\n",
    "plt.legend()\n",
    "plt.show()\n",
    "\n",
    "# чим значення менші, тим краще"
   ]
  },
  {
   "cell_type": "markdown",
   "metadata": {},
   "source": [
    "<span style=\"color:lightgreen\">__Висновки.__</span> Порівнявши значення MSE з другої лабораторної (278.19893450733974) та цієї практичної (278.22039794921875), можемо бачити, що вони майже ідентичні"
   ]
  },
  {
   "cell_type": "markdown",
   "metadata": {},
   "source": [
    "## 4. Побудова моделі для <span style=\"color:lightgreen\">класифікації:</span>\n",
    "Використайте згенерований у ллабораторній роботі №3 набір даних для задачі бінарної класифікації, включаючи ознаки та мітки класів.\n",
    "Створіть та скомпілюйте модель нейронної мережі для класифікації з використанням TensorFlow.\n",
    "Виберіть функцію втрати, оптимізатор та метрики для моделі та навчіть її на підготовленому наборі даних.\n",
    "Оцініть результати навчання та відобразіть їх графічно.\n",
    "Порівняйте з результатами, отриманими у лабораторній роботі 3."
   ]
  },
  {
   "cell_type": "code",
   "execution_count": 201,
   "metadata": {},
   "outputs": [],
   "source": [
    "from sklearn.datasets import make_classification\n",
    "\n",
    "from sklearn.metrics import accuracy_score, confusion_matrix"
   ]
  },
  {
   "cell_type": "code",
   "execution_count": 202,
   "metadata": {},
   "outputs": [],
   "source": [
    "# Згенеруємо набір даних для бінарної класифікації\n",
    "X, y = make_classification(\n",
    "    n_samples=1000,  # Кількість прикладів у наборі даних\n",
    "    n_features=2,    # Кількість ознак\n",
    "    n_informative=2, # Кількість інформативних ознак\n",
    "    n_redundant=0,   # Кількість зайвих ознак\n",
    "    n_clusters_per_class=1, # Кількість кластерів на клас\n",
    "    random_state=42   # Випадковий стан для відтворюваності\n",
    ")\n",
    "\n",
    "# Об'єднаємо ознаки та мітки у один DataFrame\n",
    "df = pd.DataFrame(data=np.c_[X, y], columns=['Feature1', 'Feature2', 'Target'])\n",
    "\n",
    "# Збережемо дані у CSV файл\n",
    "df.to_csv('data_for_part2.csv', index=False)"
   ]
  },
  {
   "cell_type": "code",
   "execution_count": 203,
   "metadata": {},
   "outputs": [
    {
     "name": "stdout",
     "output_type": "stream",
     "text": [
      "---Перегляд перших декількох рядків даних---\n",
      "   Feature1  Feature2  Target\n",
      "0  0.601034  1.535353     1.0\n",
      "1  0.755945 -1.172352     0.0\n",
      "2  1.354479 -0.948528     0.0\n",
      "3  3.103090  0.233485     0.0\n",
      "4  0.753178  0.787514     1.0 \n",
      "\n",
      "---Вивід інформації про дані: к-сті рядків, стовпців, типу даних---\n",
      "<class 'pandas.core.frame.DataFrame'>\n",
      "RangeIndex: 1000 entries, 0 to 999\n",
      "Data columns (total 3 columns):\n",
      " #   Column    Non-Null Count  Dtype  \n",
      "---  ------    --------------  -----  \n",
      " 0   Feature1  1000 non-null   float64\n",
      " 1   Feature2  1000 non-null   float64\n",
      " 2   Target    1000 non-null   float64\n",
      "dtypes: float64(3)\n",
      "memory usage: 23.6 KB\n",
      "None \n",
      "\n",
      "---Основні статистичні показники даних---\n",
      "          Feature1     Feature2       Target\n",
      "count  1000.000000  1000.000000  1000.000000\n",
      "mean      1.025840    -0.012693     0.499000\n",
      "std       1.071457     1.225378     0.500249\n",
      "min      -2.472718    -2.850971     0.000000\n",
      "25%       0.307209    -0.984268     0.000000\n",
      "50%       1.023750    -0.102945     0.000000\n",
      "75%       1.724713     0.973550     1.000000\n",
      "max       4.138715     3.342864     1.000000 \n",
      "\n"
     ]
    }
   ],
   "source": [
    "# Завантаження даних\n",
    "data = pd.read_csv('data_for_part2.csv')\n",
    "\n",
    "# Перегляд перших декількох рядків даних\n",
    "print(\"---Перегляд перших декількох рядків даних---\")\n",
    "print(data.head(), \"\\n\")\n",
    "\n",
    "# Вивести інформацію про дані, такі як кількість рядків, стовпців і типи даних\n",
    "print(\"---Вивід інформації про дані: к-сті рядків, стовпців, типу даних---\")\n",
    "print(data.info(), \"\\n\")\n",
    "\n",
    "# Вивести основні статистичні показники даних\n",
    "print(\"---Основні статистичні показники даних---\")\n",
    "print(data.describe(), \"\\n\")"
   ]
  },
  {
   "cell_type": "code",
   "execution_count": 204,
   "metadata": {},
   "outputs": [],
   "source": [
    "# Розділення на ознаки (X) та цільову змінну (y)\n",
    "X = data.drop('Target', axis=1)\n",
    "y = data['Target']\n",
    "\n",
    "# Розділення на навчальний та тестовий набори\n",
    "X_train, X_test, y_train, y_test = train_test_split(X, y, test_size=0.2, random_state=42)"
   ]
  },
  {
   "cell_type": "code",
   "execution_count": 205,
   "metadata": {},
   "outputs": [
    {
     "name": "stdout",
     "output_type": "stream",
     "text": [
      "Model: \"sequential_16\"\n",
      "_________________________________________________________________\n",
      " Layer (type)                Output Shape              Param #   \n",
      "=================================================================\n",
      " dense_16 (Dense)            (None, 1)                 3         \n",
      "                                                                 \n",
      "=================================================================\n",
      "Total params: 3 (12.00 Byte)\n",
      "Trainable params: 3 (12.00 Byte)\n",
      "Non-trainable params: 0 (0.00 Byte)\n",
      "_________________________________________________________________\n"
     ]
    }
   ],
   "source": [
    "# Визначимо модель\n",
    "model = tf.keras.Sequential([\n",
    "    tf.keras.layers.Dense(units=1, input_shape=(2,), activation='sigmoid')\n",
    "])\n",
    "\n",
    "# Компілюємо модель\n",
    "model.compile(optimizer='adam', loss='binary_crossentropy', metrics=['accuracy'])\n",
    "\n",
    "# Виведемо інформацію про модель\n",
    "model.summary()"
   ]
  },
  {
   "cell_type": "code",
   "execution_count": 206,
   "metadata": {},
   "outputs": [],
   "source": [
    "# Навчимо модель\n",
    "history = model.fit(X_train, y_train, epochs=90, validation_data=(X_test, y_test), verbose=0)"
   ]
  },
  {
   "cell_type": "code",
   "execution_count": 207,
   "metadata": {},
   "outputs": [
    {
     "name": "stdout",
     "output_type": "stream",
     "text": [
      "Training Loss: 0.29445281624794006, Training Accuracy: 0.9075000286102295\n",
      "Test Loss: 0.32606956362724304, Test Accuracy: 0.8999999761581421\n"
     ]
    },
    {
     "data": {
      "image/png": "[encoded data removed]",
      "text/plain": [
       "<Figure size 640x480 with 1 Axes>"
      ]
     },
     "metadata": {},
     "output_type": "display_data"
    }
   ],
   "source": [
    "# Оцінимо результати навчання\n",
    "train_loss, train_accuracy = model.evaluate(X_train, y_train, verbose=0)\n",
    "test_loss, test_accuracy = model.evaluate(X_test, y_test, verbose=0)\n",
    "\n",
    "print(f'Training Loss: {train_loss}, Training Accuracy: {train_accuracy}')\n",
    "print(f'Test Loss: {test_loss}, Test Accuracy: {test_accuracy}')\n",
    "\n",
    "# Візуалізуємо результати навчання\n",
    "plt.plot(history.history['loss'], label='Training Loss')\n",
    "plt.plot(history.history['val_loss'], label='Validation Loss')\n",
    "plt.title('Model Loss')\n",
    "plt.xlabel('Epoch')\n",
    "plt.ylabel('Loss')\n",
    "plt.legend()\n",
    "plt.show()"
   ]
  },
  {
   "cell_type": "markdown",
   "metadata": {},
   "source": [
    "<span style=\"color:lightgreen\">__Висновки.__</span> При порівнянні точності між третьою лабораторною роботою (90-93%) і даною практичною (приблизно 90%), доходимо до висновку, що значення приблизно однакові."
   ]
  }
 ],
 "metadata": {
  "kernelspec": {
   "display_name": "myenv",
   "language": "python",
   "name": "python3"
  },
  "language_info": {
   "codemirror_mode": {
    "name": "ipython",
    "version": 3
   },
   "file_extension": ".py",
   "mimetype": "text/x-python",
   "name": "python",
   "nbconvert_exporter": "python",
   "pygments_lexer": "ipython3",
   "version": "3.8.18"
  }
 },
 "nbformat": 4,
 "nbformat_minor": 2
}
